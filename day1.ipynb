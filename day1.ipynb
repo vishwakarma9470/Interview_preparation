{
  "cells": [
    {
      "cell_type": "markdown",
      "metadata": {
        "id": "view-in-github",
        "colab_type": "text"
      },
      "source": [
        "<a href=\"https://colab.research.google.com/github/vishwakarma9470/Interview_preparation/blob/main/day1.ipynb\" target=\"_parent\"><img src=\"https://colab.research.google.com/assets/colab-badge.svg\" alt=\"Open In Colab\"/></a>"
      ]
    },
    {
      "cell_type": "code",
      "execution_count": null,
      "metadata": {
        "id": "F_L0uDDRKF1E",
        "outputId": "5451037a-0c79-4b03-ec0e-45e477bddff3"
      },
      "outputs": [
        {
          "name": "stdout",
          "output_type": "stream",
          "text": [
            "The return type of range() is : \n",
            "<class 'range'>\n",
            "range(1, 10000)\n"
          ]
        }
      ],
      "source": [
        "\"\"\"\n",
        "1. Difference between the range and xrange in python\n",
        "\n",
        "range() function:\n",
        "\n",
        "The range() function returns a list containing arithmetic progressions of integers.\n",
        "It generates the list of numbers immediately and returns it.\n",
        "\n",
        "xrange() function:\n",
        "\n",
        "The xrange() function also returns an arithmetic progression of integers.\n",
        "However, instead of returning a list, it returns an xrange object.\n",
        "The xrange object generates numbers on the fly as you iterate over it.\n",
        "\n",
        "\n",
        "\n",
        "Return Type   : range - list   , xrange - object iterable  (generater object)\n",
        "Memory : range : more memory , xrange : less memory  because it generate  numbers\n",
        "\n",
        "\n",
        "Operation Usage :\n",
        "A range() returns the list, all the operations that can be applied on the list can be used on it,\n",
        "xrange() returns the xrange object, operations associated with the list cannot be applied to them, hence a disadvantage.\n",
        "\n",
        "\n",
        "\n",
        "Speed:\n",
        "range : more memory , less time\n",
        "xrange : less memory , more time\n",
        "\n",
        "\n",
        "but in python 3 there is no xrange function we repalce the fucnitonalities of x range by range function\n",
        "\n",
        "\n",
        "\n",
        "\"\"\"\n",
        "\n",
        "a = range(1, 10000)\n",
        "\n",
        "print(\"The return type of range() is : \")\n",
        "print(type(a))\n",
        "print(a)\n",
        "\n",
        "for i in range(2):\n",
        "    print(i)\n",
        "\n",
        "\n",
        "\n"
      ]
    },
    {
      "cell_type": "code",
      "execution_count": null,
      "metadata": {
        "id": "TUKer_axKF1T",
        "outputId": "1a9d6f74-49c2-4aa7-9a06-efe0c7c471e3"
      },
      "outputs": [
        {
          "name": "stdout",
          "output_type": "stream",
          "text": [
            "0\n",
            "1\n",
            "2\n",
            "3\n",
            "4\n",
            "5\n",
            "6\n",
            "7\n",
            "8\n",
            "9\n"
          ]
        }
      ],
      "source": [
        "range(100)\n",
        "\n",
        "for i in range(10):\n",
        "    print(i)"
      ]
    },
    {
      "cell_type": "code",
      "execution_count": null,
      "metadata": {
        "id": "AraEa_GXKF1T"
      },
      "outputs": [],
      "source": []
    },
    {
      "cell_type": "code",
      "execution_count": null,
      "metadata": {
        "id": "U_8EDyVAKF1T",
        "outputId": "a368458a-22a5-4494-f58e-2876f859bb73"
      },
      "outputs": [
        {
          "ename": "TypeError",
          "evalue": "'tuple' object does not support item assignment",
          "output_type": "error",
          "traceback": [
            "\u001b[0;31m---------------------------------------------------------------------------\u001b[0m",
            "\u001b[0;31mTypeError\u001b[0m                                 Traceback (most recent call last)",
            "Cell \u001b[0;32mIn[19], line 19\u001b[0m\n\u001b[1;32m     16\u001b[0m \u001b[38;5;66;03m# code to test that tuples are immutable\u001b[39;00m\n\u001b[1;32m     18\u001b[0m tuple1 \u001b[38;5;241m=\u001b[39m (\u001b[38;5;241m0\u001b[39m, \u001b[38;5;241m1\u001b[39m, \u001b[38;5;241m2\u001b[39m, \u001b[38;5;241m3\u001b[39m)\n\u001b[0;32m---> 19\u001b[0m tuple1[\u001b[38;5;241m0\u001b[39m] \u001b[38;5;241m=\u001b[39m \u001b[38;5;241m4\u001b[39m\n\u001b[1;32m     20\u001b[0m \u001b[38;5;28mprint\u001b[39m(tuple1)\n",
            "\u001b[0;31mTypeError\u001b[0m: 'tuple' object does not support item assignment"
          ]
        }
      ],
      "source": [
        "\"\"\"\n",
        "Difference between list and tuple :\n",
        "\n",
        "\n",
        "list : it is mutable\n",
        "tuple : it is immutable\n",
        "\n",
        "\n",
        "when to use tuple over list :\n",
        "\n",
        "Tuples are immutable, thus once they are generated, their contents cannot be changed. This makes tuples a suitable option for storing information that shouldn’t change, such as setup settings, constant values,\n",
        "\n",
        "Tuples are more lightweight than lists and might be quicker to generate, access, and iterate through since they are immutable\n",
        "\n",
        "\n",
        "\n",
        "Lists are mutable sequences in Python, meaning their elements can be modified after creation. Lists are created using square brackets []\n",
        "\n",
        "\n",
        "\n",
        "\"\"\"\n",
        "# code to test that tuples are immutable\n",
        "\n",
        "tuple1 = (0, 1, 2, 3)\n",
        "tuple1[0] = 4\n",
        "print(tuple1)\n",
        "\n",
        "\n",
        "\n",
        "\n",
        "\n",
        "\n",
        "# Creating a list\n",
        "my_list = [1, 2, 3, 4, 5]\n",
        "\n",
        "# Modifying a list\n",
        "my_list[0] = 10\n",
        "my_list.append(6)\n",
        "\n",
        "print(\"List:\", my_list)\n",
        "\n",
        "\n",
        "\n",
        "\n"
      ]
    },
    {
      "cell_type": "code",
      "execution_count": null,
      "metadata": {
        "id": "5Q-hxqOWKF1V",
        "outputId": "a2d5ee86-a143-4206-b973-a64b574dd6c2"
      },
      "outputs": [
        {
          "ename": "TypeError",
          "evalue": "'tuple' object does not support item assignment",
          "output_type": "error",
          "traceback": [
            "\u001b[0;31m---------------------------------------------------------------------------\u001b[0m",
            "\u001b[0;31mTypeError\u001b[0m                                 Traceback (most recent call last)",
            "Cell \u001b[0;32mIn[30], line 2\u001b[0m\n\u001b[1;32m      1\u001b[0m tuple1 \u001b[38;5;241m=\u001b[39m (\u001b[38;5;241m0\u001b[39m, \u001b[38;5;241m1\u001b[39m, \u001b[38;5;241m2\u001b[39m, \u001b[38;5;241m3\u001b[39m)\n\u001b[0;32m----> 2\u001b[0m tuple1[\u001b[38;5;241m0\u001b[39m] \u001b[38;5;241m=\u001b[39m \u001b[38;5;241m4\u001b[39m\n\u001b[1;32m      3\u001b[0m \u001b[38;5;28mprint\u001b[39m(tuple1)\n",
            "\u001b[0;31mTypeError\u001b[0m: 'tuple' object does not support item assignment"
          ]
        }
      ],
      "source": [
        "tuple1 = (0, 1, 2, 3)\n",
        "tuple1[0] = 4\n",
        "print(tuple1)\n"
      ]
    },
    {
      "cell_type": "code",
      "execution_count": null,
      "metadata": {
        "id": "oq8R9yFFKF1W",
        "outputId": "54f42087-7f27-452f-9828-362c3432e841"
      },
      "outputs": [
        {
          "name": "stdout",
          "output_type": "stream",
          "text": [
            "List: [10, 2, 3, 4, 5, 6]\n"
          ]
        }
      ],
      "source": [
        "\n",
        "\n",
        "# Creating a list\n",
        "my_list = [1, 2, 3, 4, 5]\n",
        "\n",
        "# Modifying a list\n",
        "my_list[0] = 10\n",
        "my_list.append(6)\n",
        "\n",
        "print(\"List:\", my_list)"
      ]
    },
    {
      "cell_type": "code",
      "execution_count": null,
      "metadata": {
        "id": "jubX-qh5KF1X"
      },
      "outputs": [],
      "source": []
    },
    {
      "cell_type": "code",
      "execution_count": null,
      "metadata": {
        "id": "qsMfG1dWKF1Y",
        "outputId": "cb4fe35e-78a7-438c-be41-b14e4fd4d25b"
      },
      "outputs": [
        {
          "name": "stdout",
          "output_type": "stream",
          "text": [
            "[[100, 2, 3], [4, 5, 6]]\n",
            "[[100, 2, 3], [4, 5, 6]]\n"
          ]
        }
      ],
      "source": [
        "\"\"\"\n",
        "3. What is the difference between a shallow copy and a deep copy?\n",
        "\n",
        "A shallow copy creates a new object which stores the reference of the original elements.So, a shallow copy doesn't create a copy of nested objects, instead it just copies the reference of nested objects. This means, a copy process does not recurse or create copies of nested objects itself.\n",
        "\n",
        "\n",
        "\n",
        "A deep copy creates a new object and recursively adds the copies of nested objects present in the original elements.The deep copy creates independent copy of original object and all its nested objects.\n",
        "\n",
        "\n",
        "\n",
        "\"\"\"\n",
        "import copy\n",
        "\n",
        "# Original list\n",
        "original_list = [[1, 2, 3], [4, 5, 6]]\n",
        "\n",
        "# Shallow copy\n",
        "shallow_copied_list = copy.copy(original_list)\n",
        "\n",
        "# Modify the shallow copy\n",
        "shallow_copied_list[0][0] = 100\n",
        "\n",
        "# Check the original list\n",
        "print(original_list)\n",
        "print(shallow_copied_list)\n",
        "\n",
        "# This is because, both lists share the reference of same nested objects."
      ]
    },
    {
      "cell_type": "code",
      "execution_count": null,
      "metadata": {
        "id": "o8-qxNW8KF1a",
        "outputId": "0da7066d-c7a8-4712-e265-7c692d9791a0"
      },
      "outputs": [
        {
          "data": {
            "text/plain": [
              "[[100, 2, 3], [4, 5, 6]]"
            ]
          },
          "execution_count": 11,
          "metadata": {},
          "output_type": "execute_result"
        }
      ],
      "source": [
        "original_list"
      ]
    },
    {
      "cell_type": "code",
      "execution_count": null,
      "metadata": {
        "id": "O-KXGkeOKF1b",
        "outputId": "541e4712-743c-46ff-d3ab-4538822592f1"
      },
      "outputs": [
        {
          "name": "stdout",
          "output_type": "stream",
          "text": [
            "[[1, 2, 3], [4, 5, 6]]\n",
            "[[100, 2, 3], [4, 5, 6]]\n"
          ]
        }
      ],
      "source": [
        "import copy\n",
        "\n",
        "# Original list\n",
        "original_list = [[1, 2, 3], [4, 5, 6]]\n",
        "\n",
        "# Deep copy\n",
        "deep_copied_list = copy.deepcopy(original_list)\n",
        "\n",
        "# Modify the deep copy\n",
        "deep_copied_list[0][0] = 100\n",
        "\n",
        "# Check the original list\n",
        "print(original_list)\n",
        "print(deep_copied_list)\n"
      ]
    },
    {
      "cell_type": "code",
      "execution_count": null,
      "metadata": {
        "id": "0VzwjHKnKF1c",
        "outputId": "d246d188-0779-4860-89a6-e2cc4b0562b4"
      },
      "outputs": [
        {
          "data": {
            "text/plain": [
              "[[1, 2, 3], [4, 5, 6]]"
            ]
          },
          "execution_count": 13,
          "metadata": {},
          "output_type": "execute_result"
        }
      ],
      "source": [
        "original_list"
      ]
    },
    {
      "cell_type": "code",
      "execution_count": null,
      "metadata": {
        "id": "5Znnbwm9KF1d",
        "outputId": "46be6152-e4dd-4710-e68f-fdb283cd5355"
      },
      "outputs": [
        {
          "name": "stdout",
          "output_type": "stream",
          "text": [
            "1\n",
            "2\n",
            "3\n",
            "4\n",
            "5\n"
          ]
        }
      ],
      "source": [
        "\"\"\"\"\n",
        "4. Where do we use Break and continue in Python ?\n",
        "\n",
        "break :\n",
        "\n",
        "it is used to terminate the loop.\n",
        "It is typically used when a certain condition is met, and you want to stop the loop execution immediately.the loop is exited, and the program continues executing the code after the loop.\n",
        "\n",
        "\n",
        "continue :\n",
        "\n",
        "it is used to skip the current iteration of the loop .\n",
        "The continue statement is used to skip the rest of the code inside a loop for the current iteration and continue with the next iteration.\n",
        "It is typically used when you want to skip certain iterations based on a condition, but continue looping through the rest of the elements.\n",
        "\n",
        "\n",
        "\"\"\"\n",
        "\n",
        "numbers = [1, 2, 3, 4, 5, 6, 7, 8, 9, 10]\n",
        "\n",
        "for number in numbers:\n",
        "    if number == 6:\n",
        "        break\n",
        "    print(number)\n",
        "\n",
        "\n",
        "\n"
      ]
    },
    {
      "cell_type": "code",
      "execution_count": null,
      "metadata": {
        "id": "yuw-fxKDKF1e",
        "outputId": "977a8165-faa4-4bf2-a502-435fa2059b35"
      },
      "outputs": [
        {
          "name": "stdout",
          "output_type": "stream",
          "text": [
            "1\n",
            "2\n",
            "3\n",
            "4\n",
            "5\n",
            "7\n",
            "8\n",
            "9\n",
            "10\n"
          ]
        }
      ],
      "source": [
        "\n",
        "numbers = [1, 2, 3, 4, 5, 6, 7, 8, 9, 10]\n",
        "\n",
        "for number in numbers:\n",
        "    if number == 6:\n",
        "        continue\n",
        "    print(number)"
      ]
    },
    {
      "cell_type": "code",
      "execution_count": null,
      "metadata": {
        "id": "IfIwKUE2KF1f",
        "outputId": "dabe36d2-7364-4890-e640-02b41a2e91eb"
      },
      "outputs": [
        {
          "name": "stdout",
          "output_type": "stream",
          "text": [
            "10\n",
            "20\n",
            "30\n"
          ]
        }
      ],
      "source": [
        "\"\"\"\n",
        "5. What is the difference between a namespace and a scope of a variable?\n",
        "\n",
        "A namespace containing all the built-in names is created when we start the Python interpreter and exists as long as the interpreter runs.\n",
        "\n",
        "This is the reason that built-in functions like id(), print() etc. are always available to us from any part of the program.\n",
        "\n",
        " Each module creates its own global namespace.These different namespaces are isolated. Hence, the same name that may exist in different modules does not collide.\n",
        "\n",
        "Modules can have various functions and classes. A local namespace is created when a function is called, which has all the names defined in it.\n",
        "\n",
        "\n",
        "\n",
        "\n",
        "there are various unique namespaces defined, we may not be able to access all of them from every part of the program. The concept of scope comes into play.\n",
        "A scope is the portion of a program from where here a namespace can be accessed directly without any prefix.\n",
        "Scope of the current function which has local names\n",
        "Scope of the module which has global names\n",
        "Outermost scope which has built-in names\n",
        "\n",
        "\n",
        "\n",
        "\"\"\"\n",
        "# global_var is in the global namespace\n",
        "global_var = 10\n",
        "\n",
        "def outer_function():\n",
        "    #  outer_var is in the local namespace\n",
        "    outer_var = 20\n",
        "\n",
        "    def inner_function():\n",
        "        #  inner_var is in the nested local namespace\n",
        "        inner_var = 30\n",
        "\n",
        "        print(inner_var)\n",
        "\n",
        "    print(outer_var)\n",
        "\n",
        "    inner_function()\n",
        "\n",
        "# print the value of the global variable\n",
        "print(global_var)\n",
        "\n",
        "# call the outer function and print local and nested local variables\n",
        "outer_function()"
      ]
    },
    {
      "cell_type": "code",
      "execution_count": null,
      "metadata": {
        "id": "iudD_TnGKF1g",
        "outputId": "971b2cc5-41b1-4fcf-8824-d8d84733daac"
      },
      "outputs": [
        {
          "name": "stdout",
          "output_type": "stream",
          "text": [
            "10\n",
            "30\n"
          ]
        }
      ],
      "source": [
        "\"\"\"\n",
        "6 .what is use of global keyword ?\n",
        "\n",
        "\"\"\"\n",
        "# define global variable\n",
        "global_var = 10\n",
        "\n",
        "def my_function():\n",
        "    # define local variable\n",
        "    local_var = 20\n",
        "\n",
        "    # modify global variable value\n",
        "    global global_var\n",
        "    global_var = 30\n",
        "\n",
        "# print global variable value\n",
        "print(global_var)\n",
        "\n",
        "# call the function and modify the global variable\n",
        "my_function()\n",
        "\n",
        "# print the modified value of the global variable\n",
        "print(global_var)"
      ]
    },
    {
      "cell_type": "code",
      "execution_count": null,
      "metadata": {
        "id": "zAeE84uoKF1g"
      },
      "outputs": [],
      "source": [
        "\"\"\" os vs sys module in python\n",
        "\n",
        "\n",
        "The sys module includes variables like sys.argv for command-line arguments, sys.version for Python version information, sys.path for Python module search paths, and sys.stdin, sys.stdout, and sys.stderr for standard I/O streams.\n",
        "It provides essential information and functionality related to the Python runtime environment.\n",
        "\n",
        "\n",
        "\n",
        "\n",
        "The os module provides a portable way of using operating system-dependent functionality.\n",
        "It allows Python programs to interact with the operating system, such as working with files and directories, accessing environment variables, and executing system commands.\n",
        "The os module includes functions like os.path for path manipulation, os.listdir() for listing directory contents, os.environ for accessing environment variables, and os.system() for executing shell commands.\n",
        "\n",
        "\n",
        "\"\"\""
      ]
    },
    {
      "cell_type": "code",
      "execution_count": null,
      "metadata": {
        "id": "YYwZnhhOKF1h"
      },
      "outputs": [],
      "source": [
        "\"\"\"\n",
        "7. How memory is managed in python ?\n",
        "\n",
        "Memory Allocation:\n",
        "\n",
        "Python uses a private heap to manage memory. The Python memory manager allocates and deallocates memory blocks as needed.\n",
        "\n",
        "When an object needs to be created, Python's memory allocator allocates memory from the heap to store the object's data and attributes.\n",
        "\n",
        "Memory allocation is dynamic, meaning that memory is allocated and deallocated as objects are created and destroyed during program execution.\n",
        "\n",
        "\n",
        "Garbage Collection:\n",
        "\n",
        "\n",
        "Python employs automatic memory management through a built-in garbage collector.\n",
        "The garbage collector periodically identifies and reclaims memory occupied by objects that are no longer in use. Python's garbage collector uses reference counting and cyclic garbage collection algorithms to reclaim memory.\n",
        "\n",
        "\n",
        "\n",
        "Memory Optimization Techniques:\n",
        "\n",
        "\n",
        "\n",
        "Object reusability : involves reusing existing objects whenever possible instead of creating new objects. This helps reduce memory fragmentation and improves performance.\n",
        "\n",
        "Object pooling :  is a technique where a pool of reusable objects is maintained.\n",
        "\n",
        "Memory profiling tools :  such as memory_profiler and objgraph, help identify memory leaks and optimize memory usage in Python programs.\n",
        "\n",
        "\"\"\""
      ]
    },
    {
      "cell_type": "code",
      "execution_count": null,
      "metadata": {
        "id": "poKVmAtpKF1h",
        "outputId": "5a6182e7-68e5-47e0-ef49-abc302f9da8c"
      },
      "outputs": [
        {
          "name": "stdout",
          "output_type": "stream",
          "text": [
            "5\n",
            "4\n",
            "3\n",
            "2\n",
            "1\n"
          ]
        }
      ],
      "source": [
        "\"\"\"\n",
        "8. What is a generator in Python?\n",
        "\n",
        "Generator Functions:\n",
        "\n",
        "Generator functions are defined using the def keyword just like regular functions, but they use the yield keyword to return values one at a time.\n",
        "When a generator function is called, it returns a generator object, which is an iterator that can be iterated over to generate values lazily.\n",
        "\n",
        "Lazy Evaluation:\n",
        "Generators provide lazy evaluation, meaning they only generate values when requested. This can be more memory efficient compared to creating and storing all values in memory at once, especially for large datasets or infinite sequences.\n",
        "\n",
        "Memory Efficiency:\n",
        "Generators are memory efficient because they generate values on-the-fly and do not store the entire sequence in memory. This makes them suitable for processing large datasets or generating sequences of arbitrary length without worrying about memory constraints.\n",
        "\n",
        "Use Cases:\n",
        "Generators are commonly used in scenarios where you need to iterate over a large dataset or an infinite sequence of values.\n",
        "They are useful for processing files line by line, reading from a network stream, generating mathematical sequences, and implementing data processing pipelines.\n",
        "\n",
        "\"\"\"\n",
        "\n",
        "# exampele of generater : range()\n",
        "def countdown(n):\n",
        "    while n > 0:\n",
        "        yield n\n",
        "        n -= 1\n",
        "\n",
        "for num in countdown(5):\n",
        "    print(num)\n"
      ]
    },
    {
      "cell_type": "code",
      "execution_count": null,
      "metadata": {
        "id": "8rNbpRVmKF1i"
      },
      "outputs": [],
      "source": [
        "\"\"\"\n",
        "9. What is the purpose of the finally block in exception handling?\n",
        "\n",
        "The finally block is used to specify code that will be executed regardless of whether an exception occurs or not. It is often used to release resources or perform cleanup operations that should always occur, such as closing a file or a database connection.\n",
        "\n",
        "\n",
        "\n",
        "\n",
        "\"\"\""
      ]
    },
    {
      "cell_type": "code",
      "execution_count": null,
      "metadata": {
        "id": "E9toMQljKF1j"
      },
      "outputs": [],
      "source": [
        "\"\"\"\n",
        "10. how  to handle the exception in python ?\n",
        "\n",
        "\"\"\"\n",
        "try:\n",
        "    # Code that may raise an exception\n",
        "    x = 10 / 0  # This will raise a ZeroDivisionError\n",
        "except ZeroDivisionError:\n",
        "    # Handling specific exceptions\n",
        "    print(\"Division by zero error occurred\")\n",
        "except Exception as e:\n",
        "    # Handling other exceptions\n",
        "    print(\"An error occurred:\", str(e))\n",
        "else:\n",
        "    # Executed if no exception occurs\n",
        "    print(\"No exception occurred\")\n",
        "finally:\n",
        "    # Executed regardless of whether an exception occurred or not\n",
        "    print(\"Finally block is always executed\")\n"
      ]
    },
    {
      "cell_type": "code",
      "execution_count": null,
      "metadata": {
        "id": "VS5iMYswKF1j",
        "outputId": "22d9a65f-edc8-4961-b67a-0a0199c1ba52"
      },
      "outputs": [
        {
          "name": "stdout",
          "output_type": "stream",
          "text": [
            "Second largest number: 15\n"
          ]
        }
      ],
      "source": [
        "\"\"\"\n",
        "11.list based : find the  second largest number from the list ?\n",
        "\"\"\"\n",
        "\n",
        "def find_second_largest(nums):\n",
        "    if len(nums) < 2:\n",
        "        return \"List should have at least two elements\"\n",
        "\n",
        "    largest = max(nums)\n",
        "    nums.remove(largest)\n",
        "    second_largest = max(nums)\n",
        "\n",
        "    return second_largest\n",
        "\n",
        "numbers = [10, 5, 20, 8, 15]\n",
        "print(\"Second largest number:\", find_second_largest(numbers))\n",
        "\n",
        "\n",
        "\n",
        "\n",
        "\n"
      ]
    },
    {
      "cell_type": "code",
      "execution_count": null,
      "metadata": {
        "id": "BAkPLUEEKF1k"
      },
      "outputs": [],
      "source": [
        "\"\"\"\n",
        "12. remove duplicates :\n",
        "\n",
        "\"\"\"\n",
        "\n",
        "def remove_duplicates(nums):\n",
        "    return list(set(nums))\n",
        "\n",
        "\n",
        "numbers = [1, 2, 3, 3, 4, 4, 5]\n",
        "print(\"List after removing duplicates:\", remove_duplicates(numbers))\n"
      ]
    },
    {
      "cell_type": "code",
      "execution_count": null,
      "metadata": {
        "id": "hFkPzpOuKF1k",
        "outputId": "4fc596a5-7706-4c2c-a11d-71e6e5cd8f14"
      },
      "outputs": [
        {
          "name": "stdout",
          "output_type": "stream",
          "text": [
            "Intersection of lists: [3, 4, 5]\n"
          ]
        }
      ],
      "source": [
        "\"\"\"\n",
        "13. intersectoin of two  list :\n",
        "\n",
        "\"\"\"\n",
        "\n",
        "def find_intersection(list1, list2):\n",
        "    return list(set(list1) & set(list2))\n",
        "\n",
        "\n",
        "list1 = [1, 2, 3, 4, 5]\n",
        "list2 = [3, 4, 5, 6, 7]\n",
        "print(\"Intersection of lists:\", find_intersection(list1, list2))\n"
      ]
    },
    {
      "cell_type": "code",
      "execution_count": null,
      "metadata": {
        "id": "iG8ZeCVjKF1l"
      },
      "outputs": [],
      "source": [
        "\"\"\"\n",
        "14 .reverse a string\n",
        "\"\"\"\n",
        "def reverse_string(s):\n",
        "    return s[::-1]\n",
        "\n",
        "# Test the function\n",
        "text = \"Hello, World!\"\n",
        "print(\"Reversed string:\", reverse_string(text))\n"
      ]
    },
    {
      "cell_type": "code",
      "execution_count": null,
      "metadata": {
        "id": "Nrz0wNG5KF1l"
      },
      "outputs": [],
      "source": [
        "\"\"\"\n",
        "15. count the occurence\n",
        "\n",
        "\"\"\"\n",
        "def count_characters(s):\n",
        "    char_count = {}\n",
        "    for char in s:\n",
        "        char_count[char] = char_count.get(char, 0) + 1\n",
        "    return char_count\n",
        "\n",
        "\n",
        "string = \"hello world\"\n",
        "print(\"Character count:\", count_characters(string))\n"
      ]
    },
    {
      "cell_type": "code",
      "execution_count": null,
      "metadata": {
        "id": "AuGJHNfeKF1l",
        "outputId": "a3fd3dff-b513-4afc-ee32-c2d8e89c5def"
      },
      "outputs": [
        {
          "name": "stdout",
          "output_type": "stream",
          "text": [
            "Are 'listen' and 'silent' anagrams? True\n"
          ]
        }
      ],
      "source": [
        "\"\"\"\n",
        "16. Check if a string is an anagram of another string:\n",
        "\n",
        "\"\"\"\n",
        "def is_anagram(s1, s2):\n",
        "    return sorted(s1) == sorted(s2)\n",
        "\n",
        "\n",
        "\n",
        "word1 = \"listen\"\n",
        "word2 = \"silent\"\n",
        "print(\"Are '{}' and '{}' anagrams?\".format(word1, word2), is_anagram(word1, word2))\n"
      ]
    },
    {
      "cell_type": "code",
      "execution_count": null,
      "metadata": {
        "id": "OTagj-fmKF1l"
      },
      "outputs": [],
      "source": [
        "\"\"\"\n",
        "17.Find the keys with the maximum value in a dictionary:\n",
        "\n",
        "\"\"\"\n",
        "def max_value_keys(d):\n",
        "    max_value = max(d.values())\n",
        "    return [key for key, value in d.items() if value == max_value]\n",
        "\n",
        "# Test the function\n",
        "data = {'a': 10, 'b': 20, 'c': 10, 'd': 30}\n",
        "print(\"Keys with maximum value:\", max_value_keys(data))\n"
      ]
    },
    {
      "cell_type": "code",
      "execution_count": null,
      "metadata": {
        "id": "lVmxO3M6KF1m"
      },
      "outputs": [],
      "source": [
        "\"\"\"\n",
        "18.check if key exits or not:\n",
        "\n",
        "\"\"\"\n",
        "def is_key_exists(d, key):\n",
        "    return key in d\n",
        "\n",
        "\n",
        "data = {'a': 10, 'b': 20, 'c': 30}\n",
        "key = 'b'\n",
        "print(\"Does key '{}' exist in the dictionary?\".format(key), is_key_exists(data, key))\n"
      ]
    },
    {
      "cell_type": "code",
      "execution_count": null,
      "metadata": {
        "id": "WZTrp7YdKF1n"
      },
      "outputs": [],
      "source": [
        "\"\"\"\n",
        "19. How do you add or modify elements in a dictionary?\n",
        "\"\"\"\n",
        "\n",
        "my_dict = {'key1': 'value1', 'key2': 'value2'}\n",
        "my_dict['key3'] = 'value3'\n",
        "my_dict['key1'] = 'new value'\n",
        "e"
      ]
    },
    {
      "cell_type": "code",
      "execution_count": null,
      "metadata": {
        "id": "0tXVnzsyKF1o",
        "outputId": "7f2f15b3-19bf-4a92-fa0f-f1634265847e"
      },
      "outputs": [
        {
          "name": "stdout",
          "output_type": "stream",
          "text": [
            "5\n",
            "5\n"
          ]
        }
      ],
      "source": [
        "\"\"\"\n",
        "20.\n",
        "\n",
        "A lambda function in Python is a small, anonymous function defined using the lambda keyword. Lambda functions can take any number of arguments but can only have one expression.\n",
        "\n",
        "Functional Programming: Lambda functions are commonly used in functional programming paradigms. They allow you to treat functions as first-class citizens, meaning they can be passed as arguments to other functions.\n",
        "\n",
        "Short, One-time Use: Lambda functions are useful for writing short, concise functions that are only used once and don't require a full function definition.\n",
        "\n",
        "Anonymous Functions: Lambda functions are anonymous, meaning they don't have a name associated with them\n",
        "\n",
        "\"\"\"\n",
        "\n",
        "\n",
        "def add(x, y):\n",
        "    return x + y\n",
        "\n",
        "print(add(2, 3))\n",
        "\n",
        "\n",
        "\n",
        "add_lambda = lambda x, y: x + y\n",
        "\n",
        "print(add_lambda(2, 3))\n"
      ]
    },
    {
      "cell_type": "code",
      "execution_count": null,
      "metadata": {
        "id": "gLTyslF2KF1o",
        "outputId": "19ce0cc2-b18b-4bd4-c6ca-248adc3d32be"
      },
      "outputs": [
        {
          "name": "stdout",
          "output_type": "stream",
          "text": [
            "[1, 4, 9, 16, 25]\n"
          ]
        }
      ],
      "source": [
        "\"\"\"\n",
        "21.\n",
        "\n",
        "map()Function:\n",
        "\n",
        "The map() function applies a given function to each item of an iterable (such as a list) and returns a list of the results.\n",
        "It is useful when you want to apply the same operation to every item in an iterable without writing a loop.\n",
        "\n",
        "\"\"\"\n",
        "\n",
        "numbers = [1, 2, 3, 4, 5]\n",
        "\n",
        "\n",
        "squared_numbers = list(map(lambda x: x ** 2, numbers))\n",
        "print(squared_numbers)\n"
      ]
    },
    {
      "cell_type": "code",
      "execution_count": null,
      "metadata": {
        "id": "wxUEfQUwKF1p",
        "outputId": "bd9a3fca-7f5e-47b9-8d05-50b4afb7ff5a"
      },
      "outputs": [
        {
          "name": "stdout",
          "output_type": "stream",
          "text": [
            "15\n"
          ]
        }
      ],
      "source": [
        "\"\"\"  22.\n",
        "\n",
        "reduce() Function:\n",
        "\n",
        "The reduce() function applies a rolling computation to sequential pairs of values in an iterable, ultimately reducing them to a single value.\n",
        "\n",
        "It is useful for operations that involve aggregating elements, such as calculating the sum or product of a sequence.\n",
        "\n",
        "\n",
        "\"\"\"\n",
        "from functools import reduce\n",
        "\n",
        "\n",
        "numbers = [1, 2, 3, 4, 5]\n",
        "\n",
        "\n",
        "sum_of_numbers = reduce(lambda x, y: x + y, numbers)\n",
        "print(sum_of_numbers)\n"
      ]
    },
    {
      "cell_type": "code",
      "execution_count": null,
      "metadata": {
        "id": "ol1_YZ0qKF1r",
        "outputId": "5a6b0b9b-80d2-4364-e318-e463005abfb1"
      },
      "outputs": [
        {
          "name": "stdout",
          "output_type": "stream",
          "text": [
            "[2, 4]\n"
          ]
        }
      ],
      "source": [
        "\"\"\" 23\n",
        "\n",
        "The filter() function creates an iterator that filters elements from an iterable based on a given function.\n",
        "It is useful when you want to selectively include or exclude elements from an iterable based on specific criteria.\n",
        "\n",
        "\"\"\"\n",
        "\n",
        "numbers = [1, 2, 3, 4, 5]\n",
        "\n",
        "\n",
        "even_numbers = list(filter(lambda x: x % 2 == 0, numbers))\n",
        "print(even_numbers)\n"
      ]
    },
    {
      "cell_type": "code",
      "execution_count": null,
      "metadata": {
        "id": "9U36IMl8KF1s"
      },
      "outputs": [],
      "source": [
        "\"\"\"\"\n",
        "24.  What is the purpose of the `__name__` variable in Python?\n",
        "\n",
        "The `__name__` variable is a built-in variable in Python that holds the name of the current module or script. When a module is imported, the `__name__` variable is set to the module's name. If the module is executed directly, the `__name__` variable is set to `'__main__'`.\n",
        "\n",
        "\"\"\""
      ]
    },
    {
      "cell_type": "code",
      "execution_count": null,
      "metadata": {
        "id": "KtFzpraTKF1t"
      },
      "outputs": [],
      "source": [
        "\"\"\"\n",
        "25. What is the purpose of the `if __name__ == \"__main__\":` statement?\n",
        "\n",
        "\n",
        "The `if __name__ == \"__main__\":` statement is often used in Python scripts. It allows you to specify code that should only be executed when the script is run directly and not when it is imported as a module. This is useful when you want to include some code that is only intended for testing or debugging purposes.\n",
        "\n",
        "\"\"\""
      ]
    },
    {
      "cell_type": "code",
      "execution_count": null,
      "metadata": {
        "id": "wS_WSDqYKF1w",
        "outputId": "c83c6a84-7a3e-47e5-a4c2-29ba34c50b59"
      },
      "outputs": [
        {
          "name": "stdout",
          "output_type": "stream",
          "text": [
            "None\n",
            "[1, 2, 3, 4, 5]\n"
          ]
        },
        {
          "data": {
            "text/plain": [
              "[3, 1, 4, 2, 5]"
            ]
          },
          "execution_count": 36,
          "metadata": {},
          "output_type": "execute_result"
        }
      ],
      "source": [
        "\"\"\"\n",
        "\n",
        "26. How do you sort a list of elements in Python? What is the difference between sort and sorted ?\n",
        "\n",
        "The sort() method is used to sort the elements of a list in place and modifies the original list itself. It does not return a new list; instead, it directly modifies the order of elements within the existing list.\n",
        "\n",
        "\n",
        "sorted() is a built-in function that takes an iterable as an argument and returns a new list containing the sorted elements of the iterable.\n",
        "The sorted() function can be used with any iterable, not just lists, and it returns a new sorted list.\n",
        "not new list it return\n",
        "\"\"\"\n",
        "\n",
        "\n",
        "\n",
        "\n",
        "numbers = [3, 1, 4, 2, 5]\n",
        "a=numbers.sort()\n",
        "print(a)\n",
        "\n",
        "\n",
        "\n",
        "\n",
        "\n",
        "\n",
        "numbers = [3, 1, 4, 2, 5]\n",
        "sorted_numbers = sorted(numbers)\n",
        "print(sorted_numbers)\n",
        "numbers\n"
      ]
    },
    {
      "cell_type": "code",
      "execution_count": null,
      "metadata": {
        "id": "GAeHvFJrKF1x",
        "outputId": "f2f3cfce-8837-47c2-930a-b435ee472aa9"
      },
      "outputs": [
        {
          "name": "stdout",
          "output_type": "stream",
          "text": [
            "[1, 2, 3, 4, 5]\n"
          ]
        }
      ],
      "source": [
        "numbers = [3, 1, 4, 2, 5]\n",
        "numbers.sort()\n",
        "print(numbers)\n"
      ]
    },
    {
      "cell_type": "code",
      "execution_count": null,
      "metadata": {
        "id": "xMeatUIaKF1y",
        "outputId": "c7dbf8d1-c26d-408b-c30d-01240a335310"
      },
      "outputs": [
        {
          "name": "stdout",
          "output_type": "stream",
          "text": [
            "[1, 2, 3, 4, 5]\n",
            "[3, 1, 4, 2, 5]\n"
          ]
        }
      ],
      "source": [
        "\n",
        "numbers = [3, 1, 4, 2, 5]\n",
        "sorted_numbers = sorted(numbers)\n",
        "print(sorted_numbers)\n",
        "\n",
        "\n",
        "print(numbers)"
      ]
    },
    {
      "cell_type": "code",
      "execution_count": null,
      "metadata": {
        "id": "h7LH0ek6KF1y"
      },
      "outputs": [],
      "source": []
    },
    {
      "cell_type": "code",
      "execution_count": null,
      "metadata": {
        "id": "lv1RdbdHKF11"
      },
      "outputs": [],
      "source": [
        "\"\"\"\n",
        "27.\n",
        "\n",
        "Pickling and unpickling are processes in Python used for serializing and deserializing objects, respectively. They are commonly used for saving and loading Python objects to and from files, databases, or across network connections.\n",
        "\n",
        "pickling :\n",
        "\n",
        "Pickling is the process of converting a Python object into a byte stream, allowing it to be stored as a binary file or transmitted over a network.\n",
        "Python's pickle module is used for pickling objects. It serializes the object into a binary format that can be saved to a file or transmitted over a network.\n",
        "Pickling is useful for preserving the state of complex objects, such as dictionaries, lists, classes, and custom objects.\n",
        "\n",
        "Unpickling:\n",
        "\n",
        "Unpickling is the process of converting a byte stream back into a Python object, reconstructing the original object from its serialized form.\n",
        "Python's pickle module is also used for unpickling objects. It reads the byte stream from a file or network connection and reconstructs the original object.\n",
        "Unpickling is useful for restoring the state of Python objects that were previously pickled.\n",
        "\n",
        "\n",
        "\"\"\"\n",
        "import pickle\n",
        "\n",
        "\n",
        "data = {'name': 'John', 'age': 30, 'city': 'New York'}\n",
        "\n",
        "\n",
        "with open('data.pkl', 'wb') as f:\n",
        "    pickle.dump(data, f)\n"
      ]
    },
    {
      "cell_type": "code",
      "execution_count": null,
      "metadata": {
        "id": "_cnGSpdaKF11",
        "outputId": "39c110f2-a103-431b-84cf-1d523f08c5a0"
      },
      "outputs": [
        {
          "name": "stdout",
          "output_type": "stream",
          "text": [
            "{'name': 'John', 'age': 30, 'city': 'New York'}\n"
          ]
        }
      ],
      "source": [
        "import pickle\n",
        "\n",
        "with open('data.pkl', 'rb') as f:\n",
        "    loaded_data = pickle.load(f)\n",
        "\n",
        "print(loaded_data)"
      ]
    },
    {
      "cell_type": "code",
      "execution_count": null,
      "metadata": {
        "id": "nco0jQ9SKF12",
        "outputId": "464c039a-b188-44ac-f175-58b1bdc1a969"
      },
      "outputs": [
        {
          "name": "stdout",
          "output_type": "stream",
          "text": [
            "[1, 4, 9, 16, 25, 36, 49, 64, 81, 100]\n",
            "{1: 1, 2: 4, 3: 9, 4: 16, 5: 25}\n"
          ]
        }
      ],
      "source": [
        "\"\"\"\n",
        "28.\n",
        "\n",
        "List and dictinary comprehension :\n",
        "\n",
        "[expression for item in iterable if condition]\n",
        "\n",
        "\n",
        "{key_expression: value_expression for item in iterable if condition}\n",
        "\"\"\"\n",
        "squares = []\n",
        "for x in range(1, 11):\n",
        "    squares.append(x ** 2)\n",
        "\n",
        "\n",
        "\n",
        "\n",
        "\n",
        "squares = [x**2 for x in range(1, 11)]\n",
        "print(squares)\n",
        "\n",
        "\n",
        "square_dict = {x: x**2 for x in range(1, 6)}\n",
        "print(square_dict)\n"
      ]
    },
    {
      "cell_type": "code",
      "execution_count": null,
      "metadata": {
        "id": "Q6ceSswyKF12"
      },
      "outputs": [],
      "source": [
        "\"\"\" 29.\n",
        "\n",
        " What is PYTHONPATH in Python?\n",
        "\n",
        "  sys.path is a list of directory names where Python looks for modules and packages when you import them using import statements. It's a part of the sys module, which provides access to some variables used or maintained by the Python interpreter.\n",
        "\n",
        "\n",
        "\"\"\""
      ]
    },
    {
      "cell_type": "code",
      "execution_count": null,
      "metadata": {
        "id": "TPKckqXPKF13",
        "outputId": "21b0e859-0cd6-4c79-e0ca-4873886b66cf"
      },
      "outputs": [
        {
          "data": {
            "text/plain": [
              "['/Users/myhome/Desktop/interview series',\n",
              " '/Users/myhome/anaconda3/lib/python311.zip',\n",
              " '/Users/myhome/anaconda3/lib/python3.11',\n",
              " '/Users/myhome/anaconda3/lib/python3.11/lib-dynload',\n",
              " '',\n",
              " '/Users/myhome/anaconda3/lib/python3.11/site-packages',\n",
              " '/Users/myhome/anaconda3/lib/python3.11/site-packages/aeosa']"
            ]
          },
          "execution_count": 40,
          "metadata": {},
          "output_type": "execute_result"
        }
      ],
      "source": [
        "import sys\n",
        "sys.path\n",
        "\n",
        "\n",
        "import sys\n",
        "\n",
        "\n",
        "sys.path.append('/Users/myhome/Desktop/')\n",
        "\n",
        "\n",
        "import add\n"
      ]
    },
    {
      "cell_type": "code",
      "execution_count": null,
      "metadata": {
        "id": "418p5TeYKF13",
        "outputId": "4c054abe-3201-4eaf-a032-155ed159154f"
      },
      "outputs": [
        {
          "data": {
            "text/plain": [
              "3"
            ]
          },
          "execution_count": 41,
          "metadata": {},
          "output_type": "execute_result"
        }
      ],
      "source": [
        "import add\n",
        "\n",
        "\n",
        "add.sum_variables(1,2)"
      ]
    },
    {
      "cell_type": "code",
      "execution_count": null,
      "metadata": {
        "id": "eUnUCJLeKF14",
        "outputId": "a6728f96-eda7-44c4-b2b7-3527363cab8d"
      },
      "outputs": [
        {
          "data": {
            "text/plain": [
              "['/Users/myhome/Desktop/interview series',\n",
              " '/Users/myhome/anaconda3/lib/python311.zip',\n",
              " '/Users/myhome/anaconda3/lib/python3.11',\n",
              " '/Users/myhome/anaconda3/lib/python3.11/lib-dynload',\n",
              " '',\n",
              " '/Users/myhome/anaconda3/lib/python3.11/site-packages',\n",
              " '/Users/myhome/anaconda3/lib/python3.11/site-packages/aeosa']"
            ]
          },
          "execution_count": 38,
          "metadata": {},
          "output_type": "execute_result"
        }
      ],
      "source": [
        "import sys\n",
        "sys.path"
      ]
    },
    {
      "cell_type": "code",
      "execution_count": null,
      "metadata": {
        "id": "nwqrCH_uKF14"
      },
      "outputs": [],
      "source": []
    },
    {
      "cell_type": "code",
      "execution_count": null,
      "metadata": {
        "id": "tOjSgimUKF15",
        "outputId": "a8a95f59-1ed1-4fbc-cfe7-adf2ed02bc4a"
      },
      "outputs": [
        {
          "name": "stdout",
          "output_type": "stream",
          "text": [
            "Help on built-in function len in module builtins:\n",
            "\n",
            "len(obj, /)\n",
            "    Return the number of items in a container.\n",
            "\n"
          ]
        }
      ],
      "source": [
        "\"\"\"\n",
        "30 . use of help  and dir() in python ?\n",
        "\n",
        "It can be used to get information about modules, classes, functions, methods, and other objects.\n",
        "\n",
        "dir() Function:\n",
        "The dir() function returns a list of valid attributes for an object.\n",
        "It can be used to examine the contents of modules, classes, objects, and built-in types.\n",
        "\"\"\"\n",
        "\n",
        "help(len)\n",
        "\n"
      ]
    },
    {
      "cell_type": "code",
      "execution_count": null,
      "metadata": {
        "id": "sTPPtef7KF15",
        "outputId": "71218a71-c27e-480b-9006-aed73493da03"
      },
      "outputs": [
        {
          "name": "stdout",
          "output_type": "stream",
          "text": [
            "['__add__', '__class__', '__class_getitem__', '__contains__', '__delattr__', '__delitem__', '__dir__', '__doc__', '__eq__', '__format__', '__ge__', '__getattribute__', '__getitem__', '__getstate__', '__gt__', '__hash__', '__iadd__', '__imul__', '__init__', '__init_subclass__', '__iter__', '__le__', '__len__', '__lt__', '__mul__', '__ne__', '__new__', '__reduce__', '__reduce_ex__', '__repr__', '__reversed__', '__rmul__', '__setattr__', '__setitem__', '__sizeof__', '__str__', '__subclasshook__', 'append', 'clear', 'copy', 'count', 'extend', 'index', 'insert', 'pop', 'remove', 'reverse', 'sort']\n"
          ]
        }
      ],
      "source": [
        "print(dir(list))"
      ]
    },
    {
      "cell_type": "code",
      "execution_count": null,
      "metadata": {
        "id": "yjVW94hJKF16"
      },
      "outputs": [],
      "source": [
        "\"\"\"\n",
        "13. What is the difference between .py and .pyc files?\n",
        "\n",
        "_pycache__ directory is not a .pyc file itself. Instead, it's a directory automatically created by Python 3 to store compiled bytecode files (.pyc files) for modules that have been imported.\n",
        "\n",
        ".py files are Python source code files that contain human-readable Python code.\n",
        "They are plain text files that you write and edit using a text editor or an Integrated Development Environment (IDE).\n",
        "\n",
        ".pyc files are compiled bytecode files generated by the Python interpreter.\n",
        "When you run a Python script (.py file), the interpreter compiles the source code into bytecode, which is a lower-level representation of the code.\n",
        "The bytecode is then stored in .pyc files, which can be executed by the Python interpreter more efficiently than recompiling the source code every time.\n",
        "\n",
        "\n",
        "\"\"\""
      ]
    },
    {
      "cell_type": "code",
      "execution_count": null,
      "metadata": {
        "id": "qabQ_a8bKF16",
        "outputId": "bc97de99-5227-4fa0-960d-515a6f3eee10"
      },
      "outputs": [
        {
          "name": "stdout",
          "output_type": "stream",
          "text": [
            "Inside function: 11\n",
            "Outside function: 10\n"
          ]
        }
      ],
      "source": [
        "\"\"\"\n",
        "pass by value :\n",
        "a copy of the actual value of the argument is passed to the function. Any modifications made to the parameter within the function do not affect the original value.\n",
        "This means that changes made to the parameter inside the function do not affect the original variable outside the function.\n",
        "\n",
        "\n",
        "Pass by Reference (or Pass by Address):\n",
        "\n",
        "Python does not strictly follow pass by reference):\n",
        "\n",
        "In pass by reference, a reference (memory address) to the actual variable in memory is passed to the function. Any changes made to the parameter within the function affect the original value.\n",
        "This means that modifications made to the parameter inside the function reflect in the original variable outside the function.\n",
        "\n",
        "\n",
        "\n",
        "\n",
        "\"\"\"\n",
        "def modify_value(value):\n",
        "    value = value + 1\n",
        "    print(\"Inside function:\", value)\n",
        "\n",
        "my_value = 10\n",
        "modify_value(my_value)\n",
        "print(\"Outside function:\", my_value)\n",
        "\n"
      ]
    },
    {
      "cell_type": "code",
      "execution_count": null,
      "metadata": {
        "id": "KiAjblnIKF19",
        "outputId": "73cc8281-ab39-4fc0-e25c-587b4cd7b66f"
      },
      "outputs": [
        {
          "name": "stdout",
          "output_type": "stream",
          "text": [
            "Inside function: [1, 2, 3, 4]\n",
            "Outside function: [1, 2, 3, 4]\n"
          ]
        }
      ],
      "source": [
        "def modify_list(lst):\n",
        "    lst.append(4)\n",
        "    print(\"Inside function:\", lst)\n",
        "\n",
        "my_list = [1, 2, 3]\n",
        "modify_list(my_list)\n",
        "print(\"Outside function:\", my_list)\n"
      ]
    },
    {
      "cell_type": "code",
      "execution_count": null,
      "metadata": {
        "id": "XR7W6x_aKF2C"
      },
      "outputs": [],
      "source": [
        "\"\"\"\n",
        " Python uses a combination of \"pass by object reference\" and \"pass by assignment.\" Immutable objects are effectively passed by value, while mutable objects are effectively passed by reference in that changes made to mutable objects within a function can affect the original object outside the function.\n",
        "\n",
        "\"\"\""
      ]
    },
    {
      "cell_type": "code",
      "execution_count": null,
      "metadata": {
        "id": "6ci8h6LzKF2D"
      },
      "outputs": [],
      "source": [
        "\"\"\"\n",
        "split() Method:\n",
        "\n",
        "The split() method is used to split a string into a list of substrings based on a specified delimiter.\n",
        "\n",
        "The method returns a list of substrings obtained by splitting the original string.\n",
        "\n",
        "\n",
        "\"\"\"\n",
        "sentence = \"This is a sample sentence.\"\n",
        "words = sentence.split()\n",
        "print(words)"
      ]
    },
    {
      "cell_type": "code",
      "execution_count": null,
      "metadata": {
        "id": "0XcXddrWKF2D"
      },
      "outputs": [],
      "source": [
        "\"\"\"\n",
        "join() Method:\n",
        "The join() method is used to concatenate a list of strings into a single string using a specified separator.\n",
        "\n",
        "\"\"\"\n",
        "\n",
        "words = ['This', 'is', 'a', 'sample', 'sentence.']\n",
        "sentence = ' '.join(words)\n",
        "print(sentence)"
      ]
    },
    {
      "cell_type": "code",
      "execution_count": null,
      "metadata": {
        "id": "x00awE17KF2E"
      },
      "outputs": [],
      "source": [
        "\"\"\"\n",
        "return:\n",
        "The return statement is used to exit a function and return a value to the caller.\n",
        "\n",
        "\n",
        "yield:\n",
        "\n",
        "The yield statement is used to create a generator function in Python.\n",
        "When a function contains a yield statement, it becomes a generator function. Instead of returning a single value, it returns an iterator that generates a sequence of values.\n",
        "When the generator function is called, it doesn't execute immediately. Instead, it returns a generator object, which can be iterated over to yield values one at a time using a loop or other iterator methods like next().\n",
        "\n",
        "\"\"\"\n",
        "\n",
        "def add_numbers(x, y):\n",
        "    return x + y\n",
        "\n",
        "result = add_numbers(3, 5)\n",
        "print(result)\n",
        "\n",
        "\n",
        "\n",
        "def generate_numbers():\n",
        "    for i in range(5):\n",
        "        yield i\n",
        "\n",
        "numbers = generate_numbers()\n",
        "for num in numbers:\n",
        "    print(num)\n",
        "\n"
      ]
    },
    {
      "cell_type": "code",
      "execution_count": null,
      "metadata": {
        "id": "GFChUAF2KF2F",
        "outputId": "be321c0d-79e3-4128-bfa0-c81a6f55ff00"
      },
      "outputs": [
        {
          "name": "stdout",
          "output_type": "stream",
          "text": [
            "{1, 2, 3, 4}\n",
            "frozenset({1, 2, 3})\n"
          ]
        }
      ],
      "source": [
        "\"\"\"\n",
        "\n",
        "set vs frozen set\n",
        "\n",
        "\"\"\"\n",
        "\n",
        "my_set = {1, 2, 3}\n",
        "my_set.add(4)\n",
        "print(my_set)\n",
        "\n",
        "\n",
        "my_frozenset = frozenset({1, 2, 3})\n",
        "# my_frozenset.add(4)  # This will raise an AttributeError because frozensets are immutable\n",
        "print(my_frozenset)\n"
      ]
    },
    {
      "cell_type": "code",
      "execution_count": null,
      "metadata": {
        "id": "fNUWRnFjKF2G"
      },
      "outputs": [],
      "source": [
        "\"\"\"\n",
        "where we use tuple\n",
        "\"\"\"\n",
        "def get_user_info(user_id):\n",
        "\n",
        "    name = 'John'\n",
        "    age = 30\n",
        "    city = 'New York'\n",
        "    return name, age, city\n",
        "\n",
        "# Receive multiple return values as a tuple\n",
        "user_info = get_user_info(123)\n",
        "\n",
        "\n",
        "\n",
        "\n",
        "# Sequence unpacking with tuples\n",
        "point = (3, 4)\n",
        "x, y = point  # Unpack the tuple into individual variables\n",
        "\n",
        "# Tuple used as dictionary key\n",
        "my_dict = {(1, 2): 'value', (3, 4): 'another value'}\n",
        "\n",
        "# Immutable collection of related data\n",
        "person_info = ('John', 30, 'New York')\n"
      ]
    },
    {
      "cell_type": "code",
      "execution_count": null,
      "metadata": {
        "id": "JrDgQESBKF2G"
      },
      "outputs": [],
      "source": [
        "\"\"\"\n",
        "*args:\n",
        "The *args parameter allows a function to accept an arbitrary number of positional arguments.\n",
        "\n",
        "\n",
        "**kwargs:\n",
        "The **kwargs parameter allows a function to accept an arbitrary number of keyword arguments. arguments passed with key-value pairs.\n",
        "\n",
        "\n",
        "\"\"\"\n",
        "\n",
        "def my_function(*args):\n",
        "    for arg in args:\n",
        "        print(arg)\n",
        "\n",
        "my_function(1, 2, 3, 4)\n",
        "\n",
        "\n",
        "\n",
        "def my_function(**kwargs):\n",
        "    for key, value in kwargs.items():\n",
        "        print(key, \":\", value)\n",
        "\n",
        "my_function(name='John', age=30, city='New York')\n",
        "\n",
        "\n"
      ]
    },
    {
      "cell_type": "code",
      "execution_count": null,
      "metadata": {
        "id": "29AVRMcyKF2H"
      },
      "outputs": [],
      "source": [
        "\"\"\"\n",
        "append():\n",
        "The append() method is used to add a single element to the end of a list.\n",
        "It modifies the original list by adding the new element at the end.\n",
        "\n",
        "insert():\n",
        "The insert() method is used to add an element at a specified index position in the list.\n",
        "It takes two arguments: the index where the element should be inserted, and the value of the element to be inserted.\n",
        "It modifies the original list by inserting the new element at the specified index position.\n",
        "\n",
        "\n",
        "extend():\n",
        "The extend() method is used to add multiple elements to the end of a list.\n",
        "It takes an iterable (such as a list, tuple, or another iterable) as its argument, and adds each element of the iterable to the end of the list.\n",
        "It modifies the original list by appending the elements from the iterable to the end.\n",
        "\n",
        "\n",
        "\"\"\"\n",
        "my_list = [1, 2, 3]\n",
        "my_list.append(4)\n",
        "print(my_list)\n",
        "\n",
        "\n",
        "my_list = [1, 2, 3]\n",
        "my_list.insert(1, 5)\n",
        "print(my_list)\n",
        "\n",
        "my_list = [1, 2, 3]\n",
        "my_list.extend([4, 5, 6])\n",
        "print(my_list)\n"
      ]
    },
    {
      "cell_type": "code",
      "execution_count": null,
      "metadata": {
        "id": "PIwBuGDcKF2H"
      },
      "outputs": [],
      "source": [
        "\"\"\"\n",
        "\n",
        " Give three ways to del an element  form list ?\n",
        "\n",
        "\"\"\"\n",
        "my_list = [1, 2, 3, 4, 5]\n",
        "del my_list[2]  # Deletes the element at index 2 (value 3)\n",
        "\n",
        "my_list = [1, 2, 3, 4, 5]\n",
        "my_list.remove(3)  # Removes the first occurrence of 3 from the list\n",
        "\n",
        "\n",
        "my_list = [1, 2, 3, 4, 5]\n",
        "my_list = my_list[:2] + my_list[3:]  # Deletes the element at index 2 (value 3)\n",
        "\n",
        "\n",
        "\"\"\" dele entire list \"\"\"\n",
        "my_list = [1, 2, 3, 4, 5]\n",
        "del my_list\n",
        "\n",
        "\n",
        "\"\"\" element present in list  \"\"\"\n",
        "my_list = [1, 2, 3, 4, 5]\n",
        "element = 3\n",
        "\n",
        "if element in my_list:\n",
        "    print(f\"The element {element} exists in the list.\")\n",
        "else:\n",
        "    print(f\"The element {element} does not exist in the list.\")\n",
        "\n",
        "\n",
        "\n",
        "\"\"\"  pop and remove difference \"\"\"\n",
        "\n",
        "my_list = [1, 2, 3, 4, 5]\n",
        "removed_element = my_list.pop(2)  # Removes and returns the element at index 2 (value 3)\n",
        "print(removed_element)\n",
        "print(my_list)\n",
        "\n",
        "my_list = [1, 2, 3, 4, 5]\n",
        "my_list.remove(3)  # Removes the first occurrence of the value 3\n",
        "print(my_list)\n",
        "\n",
        "\n",
        "\n",
        "\"\"\"\n",
        ". How do you find the unique elements in a list in Python?\n",
        "\n",
        "You can use the `set()` function to convert a list to a set, which automatically removes duplicate elements. If you need the result to be a list, you can convert it back using the `list()` function.\n",
        "\n",
        "\n",
        "\n",
        "How do you convert a list of strings to a single string in Python?\n",
        "\n",
        "You can use the `join()` method to concatenate all strings in a list into a single string.\n",
        "Example:\n",
        "\n",
        "\"\"\"\n",
        "\n",
        "\n",
        "\"\"\"\n",
        " How do you check if a list contains any duplicates in Python?\n",
        "\n",
        "\n",
        "You can convert the list to a set and compare its length to the length of the original list. If they are not equal, it means the list contains duplicates.\n",
        "\n",
        "\n",
        "\"\"\"\n",
        "my_list = [1, 2, 2, 3, 4, 4, 5]\n",
        "has_duplicates = len(my_list) != len(set(my_list))\n",
        "\n",
        "\n",
        "\n",
        "\"\"\"  list to tuple to lsit element\n",
        "\"\"\"\n",
        "# Example list of tuples\n",
        "list_of_tuples = [(1, 2), (3, 4), (5, 6)]\n",
        "\n",
        "\n",
        "list_of_elements = [item for tuple in list_of_tuples for item in tuple]\n",
        "\n",
        "print(list_of_elements)\n"
      ]
    },
    {
      "cell_type": "code",
      "execution_count": null,
      "metadata": {
        "id": "iXEyvFVAKF2I"
      },
      "outputs": [],
      "source": [
        "\"\"\" string find and index\n",
        "\n",
        "find():\n",
        "The find() method searches for the first occurrence of a substring within the given string.\n",
        "If the substring is found, it returns the index of the first occurrence of the substring.\n",
        "If the substring is not found, it returns -1.\n",
        "The find() method does not raise an exception if the substring is not found.\n",
        "\n",
        "\n",
        "index():\n",
        "The index() method also searches for the first occurrence of a substring within the given string.\n",
        "If the substring is found, it returns the index of the first occurrence of the substring.\n",
        "If the substring is not found, it raises a ValueError exception.\n",
        "\n",
        "\n",
        "Unlike find(), index() does not return -1 if the substring is not found; instead, it raises an exception.\n",
        "\n",
        "\n",
        "\"\"\"\n",
        "\n",
        "\n",
        "sentence = \"This is a sample sentence\"\n",
        "index1 = sentence.find(\"is\")\n",
        "index2 = sentence.find(\"not\")  # Returns -1 because \"not\" is not found\n",
        "\n",
        "sentence = \"This is a sample sentence\"\n",
        "index1 = sentence.index(\"is\")\n",
        "index2 = sentence.index(\"not\")  # Raises a ValueError because \"not\" is not found\n",
        "\n",
        "\n",
        "\"\"\"\n",
        "\n",
        "check palindrome\n",
        "\n",
        "\"\"\"\n",
        "def is_palindrome(s):\n",
        "\n",
        "    s = ''.join(c.lower() for c in s if c.isalnum())\n",
        "\n",
        "\n",
        "    return s == s[::-1]\n",
        "\n",
        "\n",
        "print(is_palindrome(\"A man, a plan, a canal: Panama\"))\n",
        "print(is_palindrome(\"racecar\"))\n",
        "print(is_palindrome(\"hello\"))\n",
        "\n",
        "\n",
        "\n",
        "\"\"\"check numeric digit \"\"\"\n",
        "\n",
        "string = \"12345\"\n",
        "if string.isdigit():\n",
        "    print(\"String is numeric\")\n",
        "else:\n",
        "    print(\"String is not numeric\")\n",
        "\n",
        "\n",
        "\"\"\"\n",
        "How do you remove duplicates from a string in Python?\n",
        "\n",
        "You can convert the string to a set to remove duplicate characters, and then convert it back to a string if necessary.\n",
        "\"\"\"\n",
        "\n",
        "my_string = \"Hello, World!\"\n",
        "unique_string = ''.join(set(my_string))\n",
        "\n",
        "\n",
        "\n"
      ]
    },
    {
      "cell_type": "code",
      "execution_count": null,
      "metadata": {
        "id": "4bLZWpNAKF2I"
      },
      "outputs": [],
      "source": [
        "\"\"\" sort dictionary using values  \"\"\"\n",
        "\n",
        "\n",
        "my_dict = {'apple': 5, 'banana': 2, 'orange': 8, 'grape': 1}\n",
        "\n",
        "\n",
        "sorted_dict = dict(sorted(my_dict.items(), key=lambda item: item[1]))\n",
        "\n",
        "print(sorted_dict)\n"
      ]
    },
    {
      "cell_type": "code",
      "execution_count": null,
      "metadata": {
        "id": "JoXM7yn5KF2J"
      },
      "outputs": [],
      "source": [
        "\"\"\"\n",
        "Dictionary Question :\n",
        "\n",
        "Theoretical Questions:\n",
        "\n",
        "What is a dictionary in Python, and how is it different from other data structures?\n",
        "Explain the key characteristics of dictionaries.\n",
        "Discuss the importance of hash tables in dictionary implementation.\n",
        "Describe the relationship between keys and values in a dictionary.\n",
        "Explain the concept of hashing and how it relates to dictionary performance.\n",
        "\n",
        "\n",
        "\n",
        "Coding Questions:\n",
        "\n",
        "\n",
        "How do you create an empty dictionary in Python?\n",
        "Write code to access the value associated with a specific key in a dictionary.\n",
        "Explain how you can add a new key-value pair to an existing dictionary.\n",
        "Write code to iterate over the keys and values of a dictionary.\n",
        "Describe different methods to remove a key-value pair from a dictionary.\n",
        "How do you check if a key exists in a dictionary before accessing its value?\n",
        "Write code to merge two dictionaries in Python.\n",
        "Explain the usage and purpose of dictionary comprehensions.\n",
        "Discuss scenarios where dictionaries are more suitable than lists or sets.\n",
        "\n",
        "\n",
        "\"\"\"\n",
        "# use dicionaary over other data types\n",
        "\n",
        "\n"
      ]
    },
    {
      "cell_type": "code",
      "execution_count": null,
      "metadata": {
        "id": "3pP-TgwEKF2J"
      },
      "outputs": [],
      "source": [
        "\"\"\"\n",
        "Mapping Keys to Values: Dictionaries excel at mapping keys to values. If you have data that can be organized and accessed based on unique identifiers (keys), dictionaries provide a natural and efficient way to store and retrieve this data.\n",
        "\n",
        "Fast Lookup by Key: Dictionaries offer fast lookup times based on keys. If you need to quickly retrieve values associated with specific keys without iterating over the entire collection, dictionaries are the ideal choice.\n",
        "\n",
        "Storing Metadata: Dictionaries are well-suited for storing metadata or attributes associated with objects. For example, in a database application, you might use a dictionary to store attributes of a user, such as name, age, email, etc.\n",
        "\n",
        "Sparse Data Representation: Dictionaries are efficient for representing sparse data structures where only a subset of all possible keys is present. In such cases, dictionaries consume memory only for the keys that are actually stored, making them more memory-efficient compared to lists or sets.\n",
        "\n",
        "Counting Occurrences: Dictionaries are useful for counting occurrences of elements in a collection. You can use elements as keys and their counts as values, making it easy to update and access the counts as needed.\n",
        "\n",
        "Grouping Data: Dictionaries are often used to group data based on common characteristics. For example, you might use a dictionary to group students by their grades or group products by their categories.\n",
        "\n",
        "\n",
        "\n",
        "\"\"\"\n",
        "dict1 = {'a': 1, 'b': 2}\n",
        "dict2 = {'c': 3, 'd': 4}\n",
        "\n",
        "dict1.update(dict2)  # Merge dict2 into dict1\n",
        "print(dict1)\n",
        "\n",
        "\n",
        "\n",
        "# Define an existing dictionary\n",
        "my_dict = {'a': 1, 'b': 2}\n",
        "\n",
        "# Add a new key-value pair using simple assignment\n",
        "my_dict['c'] = 3\n",
        "\n",
        "print(my_dict)\n",
        "\n",
        "\n",
        "\n",
        "\n",
        "\n",
        "\n",
        "# Define a dictionary\n",
        "my_dict = {'a': 1, 'b': 2, 'c': 3}\n",
        "\n",
        "# Method 1: Using the del keyword to remove a specific key-value pair\n",
        "del my_dict['b']\n",
        "print(\"After using del:\", my_dict)\n",
        "\n",
        "\n",
        "\n",
        "# Method 2: Using the pop() method to remove a specific key-value pair\n",
        "removed_value = my_dict.pop('a')\n",
        "print(\"Removed value:\", removed_value)\n",
        "print(\"After using pop:\", my_dict)\n",
        "\n",
        "\n",
        "# Method 3: Using the popitem() method to remove an arbitrary key-value pair\n",
        "removed_item = my_dict.popitem()\n",
        "print(\"Removed item:\", removed_item)\n",
        "print(\"After using popitem:\", my_dict)\n",
        "\n",
        "\n",
        "# Method 4: Using the clear() method to remove all key-value pairs\n",
        "my_dict = {'a': 1, 'b': 2, 'c': 3}  # Reset the dictionary\n",
        "my_dict.clear()\n",
        "print(\"After using clear:\", my_dict)\n"
      ]
    },
    {
      "cell_type": "code",
      "execution_count": null,
      "metadata": {
        "id": "iqKIejceKF2K"
      },
      "outputs": [],
      "source": [
        "\"\"\"\n",
        "Iterable:\n",
        "An iterable is any object in Python that can be iterated over, meaning it can be used in a loop. Examples of iterables include lists, tuples, dictionaries, sets, and strings. Iterable objects have an __iter__ method that returns an iterator.\n",
        "\n",
        "An iterator is an object in Python that represents a stream of data and allows iteration through that data. Iterators are objects that have an __iter__ method and a __next__ method. The __iter__ method returns the iterator object itself, and the __next__ method returns the next item in the sequence.\n",
        "\n",
        "\n",
        "\"\"\"\n",
        "\n",
        "my_list = [1, 2, 3, 4, 5]\n",
        "for item in my_list:\n",
        "    print(item)\n",
        "\n",
        "\n",
        "\n",
        "my_list = [1, 2, 3, 4, 5]\n",
        "my_iter = iter(my_list)\n",
        "\n",
        "print(next(my_iter))\n",
        "print(next(my_iter))\n",
        "print(next(my_iter))\n"
      ]
    },
    {
      "cell_type": "code",
      "execution_count": null,
      "metadata": {
        "id": "C0eu8jEgKF2K"
      },
      "outputs": [],
      "source": [
        "\"\"\"\n",
        "\n",
        "Generators:\n",
        "Generators are a type of iterable, similar to lists or tuples, but unlike lists, generators generate values on-the-fly using the yield keyword. They are memory efficient because they generate values as they are needed, rather than storing them in memory all at once.\n",
        "\n",
        "\n",
        "Decorators are a powerful tool in Python used to modify or extend the behavior of functions or methods without changing their code. Decorators allow you to wrap another function to add functionality or perform tasks before or after the function call.\n",
        "\n",
        "\n",
        "\"\"\"\n",
        "def my_decorator(func):\n",
        "    def wrapper():\n",
        "        print(\"Something is happening before the function is called.\")\n",
        "        func()\n",
        "        print(\"Something is happening after the function is called.\")\n",
        "    return wrapper\n",
        "\n",
        "@my_decorator\n",
        "def say_hello():\n",
        "    print(\"Hello!\")\n",
        "\n",
        "say_hello()\n",
        "\n",
        "\n",
        "\n",
        "\n",
        "\n",
        "def square_numbers(n):\n",
        "    for i in range(n):\n",
        "        yield i ** 2\n",
        "\n",
        "\n",
        "for num in square_numbers(5):\n",
        "    print(num)\n",
        "\n",
        "\n"
      ]
    },
    {
      "cell_type": "code",
      "execution_count": null,
      "metadata": {
        "id": "cE4P2YnJKF2P"
      },
      "outputs": [],
      "source": []
    },
    {
      "cell_type": "code",
      "execution_count": null,
      "metadata": {
        "id": "JPbyuLYDKF2Q"
      },
      "outputs": [],
      "source": [
        "\"\"\"  multithreading and multiprocessing\n",
        "\n",
        "Multithreading:\n",
        "\n",
        "Multithreading involves the creation of multiple threads within a single process.\n",
        "Threads share the same memory space, which means they can access and modify shared data structures directly.\n",
        "Threads are lightweight compared to processes and have lower memory overhead.\n",
        "Multithreading is suitable for I/O-bound tasks, such as network communication or file I/O, where threads can wait for I/O operations without blocking other threads.\n",
        "However, due to the Global Interpreter Lock (GIL) in Python, multithreading may not provide significant performance improvements for CPU-bound tasks, as only one thread can execute Python bytecode at a time.\n",
        "\n",
        "\n",
        "\n",
        "\n",
        "Multiprocessing:\n",
        "\n",
        "Multiprocessing involves the creation of multiple independent processes, each with its own memory space.\n",
        "Processes do not share memory by default, so communication between processes usually involves message passing or inter-process communication (IPC) mechanisms.\n",
        "Processes are heavyweight compared to threads and have higher memory overhead due to their separate memory spaces.\n",
        "Multiprocessing is suitable for CPU-bound tasks, such as numerical computations or data processing, where processes can utilize multiple CPU cores effectively and perform computations concurrently.\n",
        "In Python, multiprocessing can bypass the limitations of the Global Interpreter Lock (GIL) and take advantage of multiple CPU cores for parallel processing.\n",
        "\n",
        " \"\"\""
      ]
    },
    {
      "cell_type": "code",
      "execution_count": null,
      "metadata": {
        "id": "942rXXliKF2R"
      },
      "outputs": [],
      "source": [
        "\"\"\" principles of oops\n",
        "\n",
        "Encapsulation: Encapsulation refers to the bundling of data (attributes) and methods (functions) that operate on the data into a single unit, called a class. It hides the internal state of an object from the outside world and only exposes the necessary functionalities through well-defined interfaces.\n",
        "\n",
        "Inheritance: Inheritance is a mechanism where a new class, called a subclass or derived class, inherits properties and behaviors from an existing class, called a superclass or base class. This promotes code reuse and allows for the creation of hierarchical relationships between classes.\n",
        "\n",
        "Polymorphism: Polymorphism allows objects of different classes to be treated as objects of a common superclass. It enables methods to be defined in the superclass and overridden in subclasses to provide different implementations. Polymorphism allows for flexibility and extensibility in code design.\n",
        "\n",
        "Abstraction: Abstraction is the process of simplifying complex systems by modeling only the relevant aspects and hiding unnecessary details. In OOP, abstraction is achieved through abstract classes and interfaces, which define a blueprint for classes to implement. It allows programmers to focus on what an object does rather than how it does it.\n",
        "\n",
        "\"\"\"\n",
        "\n",
        "\n",
        "\"\"\"\n",
        "How much memory does a class occupy?\n",
        "\n",
        "Classes do not use memory. They merely serve as a template from which items are made. Now, objects actually initialize the class members and methods when they are created, using memory in the process.\n",
        "\n",
        "\n",
        "\n",
        "\n",
        "Is it always necessary to create objects from class?\n",
        "\n",
        "No. An object is necessary to be created if the base class has non-static methods. But if the class has static methods, then objects don’t need to be created. You can call the class method directly in this case, using the class name.\n",
        "\n",
        "\n",
        "\"\"\"\n"
      ]
    },
    {
      "cell_type": "code",
      "execution_count": null,
      "metadata": {
        "id": "RxQRNmDZKF2S"
      },
      "outputs": [],
      "source": [
        "\"\"\"\n",
        ". What are some advantages of using OOPs?\n",
        "\n",
        "\n",
        "OOPs is very helpful in solving very complex level of problems.\n",
        "Highly complex programs can be created, handled, and maintained easily using object-oriented programming.\n",
        "OOPs, promote code reuse, thereby reducing redundancy.\n",
        "OOPs also helps to hide the unnecessary details with the help of Data Abstraction.\n",
        "OOPs, are based on a bottom-up approach, unlike the Structural programming paradigm, which uses a top-down approach.\n",
        "Polymorphism offers a lot of flexibility in OOPs.\n",
        "\n",
        "\"\"\""
      ]
    },
    {
      "cell_type": "code",
      "execution_count": null,
      "metadata": {
        "id": "UjA5M39BKF2T",
        "outputId": "b757b7f2-3b12-478f-cce6-eef0c0ede390"
      },
      "outputs": [
        {
          "name": "stdout",
          "output_type": "stream",
          "text": [
            "Brand: Toyota, Model: Corolla, Color: Red\n",
            "Brand: Honda, Model: Civic, Color: Blue\n"
          ]
        }
      ],
      "source": [
        "class Car:\n",
        "\n",
        "    def __init__(self, brand, model, color):\n",
        "        self.brand = brand\n",
        "        self.model = model\n",
        "        self.color = color\n",
        "\n",
        "\n",
        "    def display_info(self):\n",
        "        print(f\"Brand: {self.brand}, Model: {self.model}, Color: {self.color}\")\n",
        "\n",
        "\n",
        "car1 = Car(\"Toyota\", \"Corolla\", \"Red\")\n",
        "car2 = Car(\"Honda\", \"Civic\", \"Blue\")\n",
        "\n",
        "\n",
        "car1.display_info()\n",
        "car2.display_info()\n"
      ]
    },
    {
      "cell_type": "code",
      "execution_count": null,
      "metadata": {
        "id": "0wS9vwGLKF2T"
      },
      "outputs": [],
      "source": [
        "\"\"\"   Encapsulation\n",
        "\n",
        "Encapsulation is the binding of data and methods that manipulate them into a single unit such that the sensitive data is hidden from the users\n",
        "\n",
        "\n",
        "It is implemented as the processes mentioned below:\n",
        "\n",
        "\n",
        "Data hiding: A language feature to restrict access to members of an object. For example, private and protected members in C++.\n",
        "\n",
        "Bundling of data and methods together: Data and methods that operate on that data are bundled together.\n",
        "For example, the data members and member methods that operate on them are wrapped into a single unit known as a class.\n",
        "\n",
        "\n",
        "\n",
        "Access specifiers are special types of keywords that are used to specify or control the accessibility of entities like classes, methods, and so on. Private, Public, and Protected are examples of access specifiers or access modifiers.\n",
        "\n",
        "\n",
        "\"\"\""
      ]
    },
    {
      "cell_type": "code",
      "execution_count": null,
      "metadata": {
        "id": "UD9QzGZdKF2U"
      },
      "outputs": [],
      "source": [
        "\"\"\"\n",
        "Public Attributes and Methods:\n",
        "\n",
        "Public attributes and methods are accessible from outside the class.\n",
        "They are accessed using dot notation.\n",
        "By default, all attributes and methods in Python are public unless explicitly declared\n",
        "\n",
        "\n",
        "Protected Attributes and Methods:\n",
        "\n",
        "Protected attributes and methods are intended to be accessed only within the class and its subclasses.\n",
        "In Python, a convention is followed where protected attributes and methods are prefixed with a single underscore _.\n",
        "While they can still be accessed from outside the class, it's generally considered a best practice not to do so.\n",
        "\n",
        "\n",
        "Private attributes and methods are intended to be accessed only within the class.\n",
        "In Python, a convention is followed where private attributes and methods are prefixed with double underscores __.\n",
        "Python performs name mangling on private attributes and methods to avoid name clashes in subclasses.\n",
        "\n",
        "\n",
        "\n",
        "\"\"\"\n",
        "class MyClass:\n",
        "    def __init__(self):\n",
        "        self.public_attribute = 10\n",
        "\n",
        "    def public_method(self):\n",
        "        return \"This is a public method\"\n",
        "\n",
        "obj = MyClass()\n",
        "print(obj.public_attribute)\n",
        "\n",
        "print(obj.public_method())\n",
        "\n",
        "\n",
        "\n",
        "\n",
        "class MyClass:\n",
        "    def __init__(self):\n",
        "        self._protected_attribute = 20\n",
        "\n",
        "    def _protected_method(self):\n",
        "        return \"This is a protected method\"\n",
        "\n",
        "obj = MyClass()\n",
        "print(obj._protected_attribute)\n",
        "print(obj._protected_method())\n",
        "\n",
        "\n",
        "\n",
        "\n",
        "class MyClass:\n",
        "    def __init__(self):\n",
        "        self.__private_attribute = 30\n",
        "\n",
        "    def __private_method(self):\n",
        "        return \"This is a private method\"\n",
        "\n",
        "obj = MyClass()\n",
        "# Accessing private attribute will raise an AttributeError\n",
        "# print(obj.__private_attribute)\n",
        "# Accessing private method will raise an AttributeError\n",
        "# print(obj.__private_method())\n",
        "\n",
        "\n",
        "\n",
        "\n",
        "\n",
        "\n"
      ]
    },
    {
      "cell_type": "code",
      "execution_count": null,
      "metadata": {
        "id": "sR6zrYPqKF2V"
      },
      "outputs": [],
      "source": [
        "\"\"\"\n",
        "types of iheritance code :\n",
        "\n",
        "\"\"\"\n",
        "\n",
        "class Animal:\n",
        "    def sound(self):\n",
        "        print(\"Animal makes a sound\")\n",
        "\n",
        "class Dog(Animal):\n",
        "    def bark(self):\n",
        "        print(\"Dog barks\")\n",
        "\n",
        "dog = Dog()\n",
        "dog.sound()\n",
        "dog.bark()\n",
        "\n",
        "\n",
        "\n",
        "# Multiple Inheritance\n",
        "class A:\n",
        "    def method_a(self):\n",
        "        print(\"Method A\")\n",
        "\n",
        "class B:\n",
        "    def method_b(self):\n",
        "        print(\"Method B\")\n",
        "\n",
        "class C(A, B):\n",
        "    def method_c(self):\n",
        "        print(\"Method C\")\n",
        "\n",
        "c = C()\n",
        "c.method_a()\n",
        "c.method_b()\n",
        "c.method_c()\n",
        "\n",
        "# Multilevel Inheritance\n",
        "class X:\n",
        "    def method_x(self):\n",
        "        print(\"Method X\")\n",
        "\n",
        "class Y(X):\n",
        "    def method_y(self):\n",
        "        print(\"Method Y\")\n",
        "\n",
        "class Z(Y):\n",
        "    def method_z(self):\n",
        "        print(\"Method Z\")\n",
        "\n",
        "z = Z()\n",
        "z.method_x()\n",
        "z.method_y()\n",
        "z.method_z()\n",
        "\n",
        "\n",
        "\n",
        "\n",
        "# Hierarchical Inheritance\n",
        "class Shape:\n",
        "    def draw(self):\n",
        "        print(\"Shape is drawn\")\n",
        "\n",
        "class Rectangle(Shape):\n",
        "    def draw(self):\n",
        "        print(\"Rectangle is drawn\")\n",
        "\n",
        "class Circle(Shape):\n",
        "    def draw(self):\n",
        "        print(\"Circle is drawn\")\n",
        "\n",
        "rectangle = Rectangle()\n",
        "circle = Circle()\n",
        "\n",
        "rectangle.draw()\n",
        "circle.draw()\n"
      ]
    },
    {
      "cell_type": "code",
      "execution_count": null,
      "metadata": {
        "id": "pFBFyG1tKF2W"
      },
      "outputs": [],
      "source": [
        "\"\"\"\n",
        "Are there any limitations of Inheritance?\n",
        "\n",
        "\n",
        "Yes, with more powers comes more complications. Inheritance is a very powerful feature in OOPs, but it has some limitations too. Inheritance needs more time to process, as it needs to navigate through multiple classes for its implementation. Also, the classes involved in Inheritance - the base class and the child class, are very tightly coupled together. So if one needs to make some changes, they might need to do nested changes in both classes.\n",
        " Inheritance might be complex for implementation, as well. So if not correctly implemented, this might lead to unexpected errors or incorrect outputs.\n",
        "\n",
        "\n",
        "\n",
        "\"\"\""
      ]
    },
    {
      "cell_type": "code",
      "execution_count": null,
      "metadata": {
        "id": "ETBGSMYtKF2X"
      },
      "outputs": [],
      "source": [
        "\"\"\"\n",
        "Abstraction is similar to data encapsulation and is very important in OOP. It means showing only the necessary information and hiding the other irrelevant information from the user. Abstraction is implemented using classes and interfaces.\n",
        "\n",
        "\"\"\""
      ]
    },
    {
      "cell_type": "code",
      "execution_count": null,
      "metadata": {
        "id": "RUrie6ApKF2X",
        "outputId": "b72fe3b3-eb1f-4728-fa48-b32336fdf886"
      },
      "outputs": [
        {
          "name": "stdout",
          "output_type": "stream",
          "text": [
            "9\n"
          ]
        }
      ],
      "source": [
        "\"\"\"\n",
        "What is the difference between overloading and overriding?\n",
        "\n",
        "\n",
        "Method Overriding:\n",
        "Method overriding occurs when a subclass provides a specific implementation of a method that is already defined in its superclass. The method in the subclass overrides the method with the same name and signature in the superclass. This allows for polymorphic behavior, where the method called depends on the type of object at runtime.\n",
        "\n",
        "\n",
        "Overriding is a form of runtime polymorphism where an entity with the same name but a different implementation is executed. It is implemented with the help of virtual functions.\n",
        "\n",
        "\n",
        "Method Overloading:\n",
        "Method overloading refers to the ability to define multiple methods with the same name but with different parameters or argument types within the same class. Python does not support method overloading natively like some other languages (e.g., Java or C++), but we can simulate it using default parameter values or variable-length argument lists.\n",
        "\n",
        "\n",
        "A compile-time polymorphism feature called overloading allows an entity to have numerous implementations of the same name. Method overloading and operator overloading are two examples.\n",
        "\n",
        "\n",
        "\"\"\"\n",
        "\n",
        "class Calculator:\n",
        "    def add(self, a, b):\n",
        "        return a + b\n",
        "\n",
        "    def add(self, a, b, c):\n",
        "        return a + b + c\n",
        "\n",
        "\n",
        "calc = Calculator()\n",
        "\n",
        "# Call the overloaded add method\n",
        "#print(calc.add(2, 3))        # Output: TypeError: add() missing 1 required positional argument: 'c'\n",
        "print(calc.add(2, 3, 4))\n",
        "\n",
        "\n",
        "\n",
        "\n",
        "\n",
        "\n",
        "\n",
        "class Animal:\n",
        "    def sound(self):\n",
        "        print(\"Animal makes a sound\")\n",
        "\n",
        "class Dog(Animal):\n",
        "    def sound(self):\n",
        "        print(\"Dog barks\")\n",
        "\n",
        "class Cat(Animal):\n",
        "    def sound(self):\n",
        "        print(\"Cat meows\")\n",
        "\n",
        "\n",
        "dog = Dog()\n",
        "cat = Cat()\n",
        "\n",
        "dog.sound()\n",
        "cat.sound()\n",
        "\n",
        "\n"
      ]
    },
    {
      "cell_type": "code",
      "execution_count": null,
      "metadata": {
        "id": "vgAQN8u8KF2Y"
      },
      "outputs": [],
      "source": [
        "\"\"\"\n",
        "\n",
        "What is meant by static polymorphism?\n",
        "Static Polymorphism is commonly known as the Compile time polymorphism. Static polymorphism is the feature by which an object is linked with the respective function or operator based on the values during the compile time. Static or Compile time Polymorphism can be achieved through Method overloading or operator overloading.\n",
        "\n",
        "\n",
        "\n",
        "What is meant by dynamic polymorphism?\n",
        "Dynamic Polymorphism or Runtime polymorphism refers to the type of Polymorphism in OOPs, by which the actual implementation of the function is decided during the runtime or execution. The dynamic or runtime polymorphism can be achieved with the help of method overriding.\n",
        "\n",
        "\n",
        "\"\"\""
      ]
    },
    {
      "cell_type": "code",
      "execution_count": null,
      "metadata": {
        "id": "xvnW7_IwKF2Y"
      },
      "outputs": [],
      "source": [
        "\"\"\"\n",
        "Static Class:\n",
        "A static class is used to group related methods and properties together. It cannot be instantiated, meaning you cannot create objects of a static class. Static classes are typically used when a group of methods are logically related to each other, but they don't require any state information.\n",
        "\n",
        "Abstract Class:\n",
        "An abstract class is designed to be a base class from which other classes can inherit. It can contain both abstract methods (methods without a body) and concrete methods (methods with a body). Abstract classes cannot be instantiated on their own, but they serve as blueprints for subclasses, which must provide implementations for all abstract methods.\n",
        "\n",
        "\n",
        "\"\"\"\n",
        "\n",
        "class MathUtils:\n",
        "    @staticmethod\n",
        "    def add(x, y):\n",
        "        return x + y\n",
        "\n",
        "    @staticmethod\n",
        "    def subtract(x, y):\n",
        "        return x - y\n",
        "\n",
        "# Using static methods of the MathUtils class\n",
        "print(MathUtils.add(5, 3))       # Output: 8\n",
        "print(MathUtils.subtract(10, 4))  # Output: 6\n",
        "\n",
        "\n",
        "\n",
        "\n",
        "\n",
        "\n",
        "from abc import ABC, abstractmethod\n",
        "\n",
        "# Define an abstract class\n",
        "class Shape(ABC):\n",
        "    @abstractmethod\n",
        "    def area(self):\n",
        "        pass\n",
        "\n",
        "    @abstractmethod\n",
        "    def perimeter(self):\n",
        "        pass\n",
        "\n",
        "# Define a concrete subclass of Shape\n",
        "class Rectangle(Shape):\n",
        "    def __init__(self, width, height):\n",
        "        self.width = width\n",
        "        self.height = height\n",
        "\n",
        "    def area(self):\n",
        "        return self.width * self.height\n",
        "\n",
        "    def perimeter(self):\n",
        "        return 2 * (self.width + self.height)\n",
        "\n",
        "# Create an instance of the Rectangle class\n",
        "rectangle = Rectangle(5, 3)\n",
        "\n",
        "# Calculate and display area and perimeter\n",
        "print(\"Area:\", rectangle.area())\n",
        "print(\"Perimeter:\", rectangle.perimeter())\n"
      ]
    },
    {
      "cell_type": "code",
      "execution_count": null,
      "metadata": {
        "id": "Il6uz0G-KF2Z"
      },
      "outputs": [],
      "source": [
        "\"\"\"\n",
        "Static Method:\n",
        "A static method is a method that belongs to a class, but it doesn't operate on any instance-specific data.\n",
        "Static methods are defined using the @staticmethod decorator and can be called using the class name or an instance of the class.\n",
        "They don't have access to instance variables or the instance state because they don't receive the self parameter.\n",
        "Static methods are commonly used for utility functions that are related to the class but don't require access to instance-specific data\n",
        "\n",
        "\n",
        "Class Method:\n",
        "A class method is a method that operates on the class itself rather than on instances of the class.\n",
        "Class methods are defined using the @classmethod decorator and receive the class itself (cls) as the first parameter.\n",
        "Class methods can access and modify class-level variables and perform operations that are related to the class as a whole.\n",
        "They are often used to create alternative constructors or manipulate class-level variables.\n",
        "\n",
        "\n",
        "\n",
        "\"\"\"\n",
        "class MyClass:\n",
        "    class_variable = 10\n",
        "\n",
        "    # Static method\n",
        "    @staticmethod\n",
        "    def static_method(x, y):\n",
        "        return x + y\n",
        "\n",
        "    # Class method\n",
        "    @classmethod\n",
        "    def class_method(cls):\n",
        "        return cls.class_variable\n",
        "\n",
        "# Using static method\n",
        "result_static = MyClass.static_method(3, 5)\n",
        "print(\"Result of static method:\", result_static)\n",
        "\n",
        "# Using class method\n",
        "result_class = MyClass.class_method()\n",
        "print(\"Result of class method:\", result_class)\n"
      ]
    },
    {
      "cell_type": "code",
      "execution_count": null,
      "metadata": {
        "id": "8RKeida4KF2a"
      },
      "outputs": [],
      "source": [
        "\"\"\"\n",
        "Getter Method:\n",
        "\n",
        "The getter method retrieves the value of the property when it is accessed.\n",
        "It is decorated with @property and has the same name as the property.\n",
        "The getter method should return the value of the property.\n",
        "Setter Method:\n",
        "\n",
        "The setter method allows you to modify the value of the property.\n",
        "It is decorated with @property_name.setter and has the same name as the property.\n",
        "The setter method takes the new value as an argument and updates the property's value.\n",
        "Deleter Method:\n",
        "\n",
        "The deleter method is used to delete the property from the instance.\n",
        "It is decorated with @property_name.deleter and has the same name as the property.\n",
        "The deleter method is called when the del statement is used to delete the property.\n",
        "\n",
        "\"\"\"\n",
        "\n",
        "class Person:\n",
        "    def __init__(self, name):\n",
        "        self._name = name\n",
        "\n",
        "    @property\n",
        "    def name(self):\n",
        "        print(\"Getter method called\")\n",
        "        return self._name\n",
        "\n",
        "    @name.setter\n",
        "    def name(self, value):\n",
        "        print(\"Setter method called\")\n",
        "        self._name = value\n",
        "\n",
        "    @name.deleter\n",
        "    def name(self):\n",
        "        print(\"Deleter method called\")\n",
        "        del self._name\n",
        "\n",
        "person = Person(\"prince\")\n",
        "\n",
        "# Accessing the property using the getter method\n",
        "print(person.name)\n",
        "# Modifying the property using the setter method\n",
        "person.name = \"Bob\"\n",
        "\n",
        "# Deleting the property using the deleter method\n",
        "del person.name\n"
      ]
    },
    {
      "cell_type": "code",
      "execution_count": null,
      "metadata": {
        "id": "lwXqgAT4KF2a"
      },
      "outputs": [],
      "source": [
        "\"\"\"\n",
        "\n",
        "Encapsulation: Getter and setter methods help enforce the principle of encapsulation by hiding the internal state of an object from the outside world. They allow controlled access to object attributes, preventing direct manipulation and ensuring data integrity.\n",
        "\n",
        "Data Validation: Setter methods can include validation logic to ensure that the data being assigned to an attribute meets certain criteria or constraints. This helps maintain the consistency and correctness of the object's state.\n",
        "\n",
        "Flexibility: By using getter and setter methods, you can modify the internal implementation of an object without affecting the code that interacts with it. This provides flexibility and allows for future changes to the class implementation without breaking existing code.\n",
        "\n",
        "Security: Getter and setter methods can implement access control mechanisms to restrict access to sensitive attributes or provide additional security checks before allowing modifications.\n",
        "\n",
        "\n",
        "\"\"\"\n",
        "\n",
        "\n",
        "class Person:\n",
        "    def __init__(self, name, age):\n",
        "        self._name = name\n",
        "        self._age = age\n",
        "\n",
        "\n",
        "    def get_name(self):\n",
        "        return self._name\n",
        "\n",
        "\n",
        "    def set_name(self, name):\n",
        "        self._name = name\n",
        "\n",
        "\n",
        "    def get_age(self):\n",
        "        return self._age\n",
        "\n",
        "\n",
        "    def set_age(self, age):\n",
        "        if age >= 0:\n",
        "            self._age = age\n",
        "        else:\n",
        "            print(\"Age cannot be negative\")\n",
        "\n",
        "# Create an instance of the Person class\n",
        "person1 = Person(\"prince\", 25)\n",
        "\n",
        "# Get and set the name using getter and setter methods\n",
        "print(\"Original Name:\", person1.get_name())\n",
        "person1.set_name(\"Bob\")\n",
        "print(\"New Name:\", person1.get_name())\n",
        "\n",
        "# Get and set the age using getter and setter methods\n",
        "print(\"Original Age:\", person1.get_age())\n",
        "person1.set_age(35)\n",
        "print(\"New Age:\", person1.get_age())\n",
        "\n",
        "# Attempt to set a negative age\n",
        "person1.set_age(-25)                           # Output: Age cannot be negative\n",
        "print(\"Age after invalid update:\", person1.get_age())\n",
        "\n"
      ]
    },
    {
      "cell_type": "code",
      "execution_count": null,
      "metadata": {
        "id": "vWfbiPVXKF2b"
      },
      "outputs": [],
      "source": [
        "\"\"\"\n",
        "why we use construter ?\n",
        "\n",
        "\n",
        "Initialization: The constructor allows you to initialize the attributes (variables) of an object to specific values when the object is created. This ensures that each instance of the class starts with the desired initial state.\n",
        "\n",
        "Setting Default Values: Constructors can be used to set default values for attributes if no initial values are provided during object creation. This helps ensure that objects are created with meaningful default values.\n",
        "\n",
        "Parameterized Initialization: Constructors can accept parameters, allowing for parameterized initialization of objects. This allows the caller to provide initial values for object attributes at the time of object creation.\n",
        "\n",
        "\n",
        "\n",
        "\"\"\"\n",
        "class Person:\n",
        "    def __init__(self, name, age):\n",
        "        self.name = name\n",
        "        self.age = age\n",
        "\n",
        "    def display_info(self):\n",
        "        print(f\"Name: {self.name}, Age: {self.age}\")\n",
        "\n",
        "\n",
        "person1 = Person(\"prince\", 30)\n",
        "person2 = Person(\"mrigendra\", 25)\n",
        "\n",
        "# Calling the display_info method to display information about each person\n",
        "person1.display_info()\n",
        "person2.display_info()\n"
      ]
    },
    {
      "cell_type": "code",
      "execution_count": null,
      "metadata": {
        "id": "5h3dOZmWKF2c"
      },
      "outputs": [],
      "source": [
        "\"\"\"\n",
        "construter types :\n",
        "\n",
        "\"\"\"\n",
        "\n",
        "class Person:\n",
        "    def __init__(self, name=\"pricne\", age=25):\n",
        "        self.name = name\n",
        "        self.age = age\n",
        "\n",
        "\n",
        "    def display_info(self):\n",
        "        print(f\"Name: {self.name}, Age: {self.age}\")\n",
        "\n",
        "    @classmethod\n",
        "    def from_dict(cls, data):\n",
        "        return cls(data['name'], data['age'])\n",
        "\n",
        "\n",
        "person1 = Person()\n",
        "person1.display_info()\n",
        "\n",
        "# Providing values during object creation\n",
        "person2 = Person(\"Alice\", 25)\n",
        "person2.display_info()\n",
        "\n",
        "# Using a class method to create an object from a dictionary\n",
        "person_data = {'name': 'mrigendra', 'age': 35}\n",
        "person3 = Person.from_dict(person_data)\n",
        "person3.display_info()\n"
      ]
    },
    {
      "cell_type": "code",
      "execution_count": null,
      "metadata": {
        "id": "vpCC4CFQKF2c",
        "outputId": "4770f70b-c775-4481-e8c3-3c6924b0fc90"
      },
      "outputs": [
        {
          "name": "stdout",
          "output_type": "stream",
          "text": [
            "Person: Alice, Age: 30\n",
            "Point(3, 4)\n",
            "5\n"
          ]
        }
      ],
      "source": [
        "\"\"\"\n",
        "dunder method :\n",
        "\n",
        "Special methods, also known as dunder methods (short for \"double underscore\"), are built-in methods in Python that are used to perform various operations with user-defined objects. These methods are surrounded by double underscores (__) and have special significance in Python.\n",
        "\n",
        "\"\"\"\n",
        "\n",
        "\"\"\"\n",
        "__init__: The constructor method used for initializing objects of a class.\n",
        "\n",
        "\"\"\"\n",
        "class Person:\n",
        "    def __init__(self, name, age):\n",
        "        self.name = name\n",
        "        self.age = age\n",
        "\n",
        "person = Person(\"Alice\", 30)\n",
        "\n",
        "\n",
        "\"\"\"\n",
        "__str__: The string representation of an object.\n",
        "\"\"\"\n",
        "class Person:\n",
        "    def __init__(self, name, age):\n",
        "        self.name = name\n",
        "        self.age = age\n",
        "\n",
        "    def __str__(self):\n",
        "        return f\"Person: {self.name}, Age: {self.age}\"\n",
        "\n",
        "person = Person(\"prince\", 30)\n",
        "print(person)\n",
        "\n",
        "\n",
        "\n",
        "\"\"\"\n",
        "__repr__: Defines the string representation of an object for debugging and logging purposes.\n",
        "\"\"\"\n",
        "class Point:\n",
        "    def __init__(self, x, y):\n",
        "        self.x = x\n",
        "        self.y = y\n",
        "\n",
        "    def __repr__(self):\n",
        "        return f\"Point({self.x}, {self.y})\"\n",
        "\n",
        "point = Point(3, 4)\n",
        "print(repr(point))\n",
        "\n",
        "\n",
        "\n",
        "\"\"\"\n",
        " for getting the length\n",
        "\n",
        "\"\"\"\n",
        "class MyList:\n",
        "    def __init__(self, items):\n",
        "        self.items = items\n",
        "\n",
        "    def __len__(self):\n",
        "        return len(self.items)\n",
        "\n",
        "my_list = MyList([1, 2, 3, 4, 5])\n",
        "print(len(my_list))\n"
      ]
    },
    {
      "cell_type": "code",
      "execution_count": null,
      "metadata": {
        "id": "BogVlzzuKF2d",
        "outputId": "94632f18-f280-4a19-9503-851037d2d8b2"
      },
      "outputs": [
        {
          "name": "stdout",
          "output_type": "stream",
          "text": [
            "Object deleted\n"
          ]
        }
      ],
      "source": [
        "\"\"\"\n",
        " What is the purpose of the `__del__` method?\n",
        "\n",
        "- The `__del__` method is used to define the behavior when an object is about to be destroyed.\n",
        "It is called when the object is garbage-collected or explicitly deleted using the `del` statement.\n",
        "\n",
        "\"\"\"\n",
        "\n",
        "class MyClass:\n",
        "    def __del__(self):\n",
        "        print(\"Object deleted\")\n",
        "\n",
        "\n",
        "obj = MyClass()\n",
        "\n",
        "\n",
        "del obj\n",
        "\n"
      ]
    },
    {
      "cell_type": "markdown",
      "source": [
        "What is the difference between Python 2 and Python 3?\n",
        "Python 2 and Python 3 are both versions of the Python programming language, but they have some key differences:\n",
        "\n",
        "Syntax: Python 3 introduced several syntax changes and improvements over Python 2. Some notable differences include:\n",
        "print statement: In Python 2, print is a statement (print \"Hello\"), whereas in Python 3, it's a function (print \"Hello\".\n",
        "Division: In Python 2, dividing two integers results in integer division (e.g., 5 / 2 yields 2), while in Python 3, it results in floating-point division (e.g., 5 / 2 yields 2.5). Integer division in Python 3 uses //.\n",
        "Unicode: Python 3 treats strings as Unicode by default, while Python 2 distinguishes between byte strings (str) and Unicode strings (unicode).\n",
        "Unicode Support: Python 3 provides better support for Unicode characters, making it easier to work with international text and characters from different languages. In Python 2, Unicode support is less consistent and requires using the u prefix for Unicode strings.\n",
        "Print Function: In Python 3, print is a function, allowing more flexibility and consistency in its usage. This change simplifies syntax and makes it easier to port code from Python 2 to Python 3.\n",
        "Range vs. xrange: Python 3 replaces xrange() with range(), making range() behave like xrange() in Python 2. This simplifies the syntax and improves memory efficiency.\n",
        "Library Compatibility: Some libraries and modules may not be fully compatible with both Python 2 and Python 3. While many popular libraries have been ported to Python 3, some legacy codebases or third-party libraries may still rely on Python 2.\n",
        "Development and Support: Python 2 reached its end of life (EOL) on January 1, 2020, and is no longer actively maintained or updated by the Python community. Python 3 is the current and future version of the language, receiving ongoing development, improvements, and support from the Python Software Foundation and the community.\n",
        "\n",
        "\n",
        "clip\n",
        "\n",
        "Explain the difference between '==' and 'is' in Python.\n",
        "In Python, the == operator and the is operator are used for different purposes:\n",
        "\n",
        "== (Equality Operator):\n",
        "\n",
        "The == operator is used to compare the values of two objects or variables. It checks whether the values are equal or not.\n",
        "When you use ==, Python evaluates the contents or values of the objects being compared.\n",
        "is (Identity Operator):\n",
        "\n",
        "The is operator, on the other hand, is used to check whether two objects or variables refer to the same memory location or have the same identity.\n",
        "When you use is, Python evaluates whether the two objects being compared are the same object in memory.\n",
        "\n",
        "\n",
        "clip\n",
        "\n",
        "What are the benefits of using Python for web development?\n",
        "Using Python for web development offers several benefits, making it a popular choice for building web applications. Some of the key benefits of using Python for web development include:\n",
        "\n",
        "Ease of Learning and Readability: Python is known for its simple and clean syntax, which makes it easy to learn and understand. Its readability facilitates collaboration among developers and reduces the time needed for development and maintenance.\n",
        "Rich Ecosystem of Frameworks: Python has a vast ecosystem of web frameworks that streamline web development by providing pre-built components and tools. Some popular Python web frameworks include Django, Flask, and Pyramid. These frameworks offer features such as routing, templating, authentication, and database integration, allowing developers to build complex web applications efficiently.\n",
        "Scalability: Python's scalability makes it suitable for both small-scale and large-scale web applications. Its versatility allows developers to start with a simple prototype and scale up as the application grows in complexity and traffic.\n",
        "Wide Range of Libraries: Python boasts a rich collection of libraries and packages for various purposes, including web development. Libraries such as Requests for making HTTP requests, BeautifulSoup for web scraping, and SQLAlchemy for database interaction enhance productivity and enable developers to focus on building features rather than reinventing the wheel.\n",
        "Community and Support: Python has a vibrant and supportive community of developers who contribute to its growth and improvement. This active community provides resources, tutorials, and documentation, making it easier for developers to find solutions to problems and stay updated with best practices.\n",
        "Cross-Platform Compatibility: Python is a cross-platform language, meaning that code written in Python can run on different operating systems without modification. This cross-platform compatibility simplifies deployment and ensures consistency across different environments.\n",
        "Integration Capabilities: Python's flexibility allows it to integrate seamlessly with other technologies and platforms. It can be used for backend development alongside frontend technologies like JavaScript, HTML, and CSS. Additionally, Python can integrate with databases, cloud services, APIs, and other third-party tools, enabling developers to build feature-rich and interconnected web applications.\n",
        "\n",
        "\n",
        "clip\n",
        "\n",
        "How does exception handling work in Python?\n",
        "Exception handling in Python allows developers to handle errors and unexpected situations gracefully, preventing abrupt termination of the program. Here's how exception handling works in Python:\n",
        "\n",
        "Try-Except Blocks:\n",
        "The primary mechanism for handling exceptions in Python is the try-except block.\n",
        "Code that may raise an exception is placed inside a try block.\n",
        "If an exception occurs within the try block, the program execution is immediately transferred to the corresponding except block.\n",
        "The except block contains code to handle the exception. It specifies the type of exception(s) it can handle.\n",
        "Handling Specific Exceptions:\n",
        "You can specify different except blocks to handle specific types of exceptions.\n",
        "This allows for targeted error handling based on the type of exception raised.\n",
        "If an exception matches the type specified in an except block, the corresponding block is executed.\n",
        "Handling Multiple Exceptions:\n",
        "You can handle multiple types of exceptions in a single except block by specifying them as a tuple.\n",
        "This allows for more concise exception handling.\n",
        "Handling Unspecified Exceptions:\n",
        "You can use a generic except block without specifying the type of exception.\n",
        "This block will catch any exception that is not handled by preceding except blocks.\n",
        "It's often used as a catch-all for unexpected errors.\n",
        "Finally Block:\n",
        "Optionally, you can include a finally block after the try-except blocks.\n",
        "The code inside the finally block is executed whether an exception occurs or not.\n",
        "It's commonly used for cleanup tasks, such as closing files or releasing resources, regardless of whether an exception occurs.\n",
        "Raising Exceptions:\n",
        "You can raise exceptions manually using the raise statement.\n",
        "This allows you to signal errors or exceptional conditions explicitly in your code.\n",
        "\n",
        "\n",
        "clip\n",
        "\n",
        "What are decorators in Python? Provide an example.\n",
        "In python, Decorators are a powerful and flexible feature that allows you to modify or extend the behavior of functions or methods without modifying their underlying code. Decorators are implemented using functions or classes that wrap other functions or methods, adding additional functionality tho them.\n",
        "\n",
        "\n",
        "\n",
        "here are an example :\n",
        "\n",
        "# Decorator function\n",
        "\n",
        "def my_decorator(func):\n",
        "\n",
        "  def wrapper():\n",
        "\n",
        "    print(\"Something is happening before the function is called.\")\n",
        "\n",
        "    func() # Call the original function\n",
        "\n",
        "    print(\"Something is happening after the function is called.\")\n",
        "\n",
        "  return wrapper\n",
        "\n",
        "\n",
        "\n",
        "# Function to be decorated\n",
        "\n",
        "def say_hello():\n",
        "\n",
        "  print(\"Hello!\")\n",
        "\n",
        "\n",
        "\n",
        "# Decorate the function using the decorator function\n",
        "\n",
        "say_hello = my_decorator(say_hello)\n",
        "\n",
        "\n",
        "\n",
        "# Call the decorated function\n",
        "\n",
        "say_hello()\n",
        "\n",
        "\n",
        "\n",
        "clip\n",
        "\n",
        "Explain list comprehension in Python with an example.\n",
        "List comprehension is a concise and expressive way to create lists in Python. It allows you to generate a new list by applying an expression to each item in an existing iterable (e.g., a list, tuple, or range) and optionally filtering the items based on a condition. List comprehensions are often more readable and efficient than traditional loops for creating lists.\n",
        "\n",
        "Here's an example to illustrate list comprehension:\n",
        "\n",
        "Suppose we have a list of numbers and we want to create a new list containing the squares of each number:\n",
        "\n",
        "# Using traditional loop\n",
        "\n",
        "numbers = [1, 2, 3, 4, 5]\n",
        "\n",
        "squares = []\n",
        "\n",
        "for num in numbers:\n",
        "\n",
        "  squares.append(num ** 2)\n",
        "\n",
        "\n",
        "\n",
        "print(squares) # Output: [1, 4, 9, 16, 25]\n",
        "\n",
        "\n",
        "\n",
        "Now, let's achieve the same result using list comprehension:\n",
        "\n",
        "# Using list comprehension\n",
        "\n",
        "numbers = [1, 2, 3, 4, 5]\n",
        "\n",
        "squares = [num ** 2 for num in numbers]\n",
        "\n",
        "\n",
        "\n",
        "print(squares) # Output: [1, 4, 9, 16, 25]\n",
        "\n",
        "\n",
        "\n",
        "In this example:\n",
        "\n",
        "[num ** 2 for num in numbers] is the list comprehension expression.\n",
        "num ** 2 is the expression applied to each item num in the numbers list, which calculates the square of num.\n",
        "for num in numbers is the loop that iterates over each item in the numbers list.\n",
        "The resulting list contains the squares of each number in the original numbers list.\n",
        "List comprehensions can also include condithonal expressions to filter items based on certain criteria. For example,\n",
        "\n",
        "let's filter out only the even squares from the orijingal list:\n",
        "\n",
        "# Using list comprehension with conditional expression\n",
        "\n",
        "numbers = [1, 2, 3, 4, 5]\n",
        "\n",
        "even_squares = [num ** 2 for num in numbers if num % 2 == 0]\n",
        "\n",
        "\n",
        "\n",
        "print(even_squares) # Output: [4, 16]\n",
        "\n",
        "\n",
        "\n",
        "In this example, if num%2 == 0 is the conditional expression that filters out only the even numbers before calculating their squares.\n",
        "\n",
        "clip\n",
        "\n",
        "What is a generator in Python? How is it different from a list?\n",
        "In Python, a generator is a special type of iterator that generates values on-the-fly using the yield keyword. Generators allow you to iterate over a sequence of values without storing them in memory all at once, making them memory-efficient and suitable for processing large datasets or infinite sequences.\n",
        "\n",
        "Here's a brief overview of generators and how they differ from lists:\n",
        "\n",
        "Generator:\n",
        "A generator is a function that contains one or more yield statements.\n",
        "When a generator function is called, it returns a generator object, which is an iterator.\n",
        "Each time the next() function is called on the generator object, the generator function executes until it encounters a yield statement. The value yielded by the yield statement is returned, and the function's state is suspended.\n",
        "The next time next() is called, the function resumes execution from where it left off until it reaches the next yield statement or the end of the function.\n",
        "Generators are typically used to generate sequences of values lazily, allowing for efficient memory usage and computation.\n",
        "List:\n",
        "A list is a collection of values stored in memory as a contiguous block.\n",
        "Lists are created using square brackets [ ] and can contain any number of elements.\n",
        "All elements of a list are stored in memory simultaneously, which can be memory-intensive for large datasets.\n",
        "Lists support random access, meaning you can access elements by index (list[index]) and modify them in-place (list[index] = value).\n",
        "Lists are not inherently lazy; all elements are computed and stored upfront.\n",
        "Key Differences:\n",
        "\n",
        "Memory Usage: Generators are memory-efficient because they generate values on-the-fly as needed, whereas lists store all elements in memory simultaneously.\n",
        "Lazy Evaluation: Generators use lazy evaluation, meaning they produce values only when requested, while lists are fully evaluated and stored in memory upfront.\n",
        "Iteration: Generators are typically used for one-time iteration and cannot be reset, while lists support multiple iterations and random access.\n",
        "Infinite Sequences: Generators are well-suited for representing infinite sequences, such as a sequence of all prime numbers, while lists have a fixed size and cannot represent infinite sequences.\n",
        "\n",
        "\n",
        "clip\n",
        "\n",
        "Write a Python function to reverse a string without using slice or reverse method.\n",
        "def reverse_string(s):\n",
        "\n",
        "  reversed_str = ''\n",
        "\n",
        "  for i in range(len(s) - 1, -1, -1):\n",
        "\n",
        "    reversed_str += s[i]\n",
        "\n",
        "  return reversed_str\n",
        "\n",
        "\n",
        "\n",
        "# Test the function\n",
        "\n",
        "original_str = \"Hello, World!\"\n",
        "\n",
        "reversed_str = reverse_string(original_str)\n",
        "\n",
        "print(\"Original string:\", original_str)\n",
        "\n",
        "print(\"Reversed string:\", reversed_str)\n",
        "\n",
        "\n",
        "\n",
        "clip\n",
        "\n",
        "Explain the Global Interpreter Lock (GIL) in Python and its impact on multi-threading.\n",
        "The Global Interpreter Lock (GIL) is a mechanism used in the implementation of the Python interpreter to ensure that only one thread executes Python bytecode at a time. The GIL effectively serializes access to Python objects, preventing multiple native threads from executing Python bytecodes simultaneously. This means that even in a multi-threaded environment, Python bytecode execution remains single-threaded.\n",
        "\n",
        "Here are key points to understand about the GIL and its impact on multi-threading in Python:\n",
        "\n",
        "GIL Functionality:\n",
        "The GIL is a mutex (lock) that protects access to Python objects, preventing multiple threads from executing Python bytecode simultaneously.\n",
        "Whenever a thread in a Python process wants to execute Python bytecode, it must acquire the GIL.\n",
        "Only the thread holding the GIL can execute Python bytecodes. Other threads must wait until the GIL is released before they can acquire it and execute bytecodes.\n",
        "Impact on Multi-Threading:\n",
        "Due to the GIL, multi-threaded Python programs do not fully leverage the benefits of multi-core processors for CPU-bound tasks.\n",
        "While Python threads are useful for I/O-bound tasks (such as network requests, disk I/O, etc.), they are less effective for CPU-bound tasks that require heavy computation.\n",
        "In a multi-threaded Python program, if one thread is executing CPU-bound tasks, it holds the GIL for an extended period, preventing other threads from executing Python bytecodes concurrently. This can lead to poor performance and CPU utilization in multi-core systems.\n",
        "Workarounds and Alternatives:\n",
        "To overcome the limitations of the GIL, Python developers often use alternative approaches such as:Using multiprocessing instead of multithreading for CPU-bound tasks. Multiprocessing allows multiple Python processes to run concurrently, each with its own GIL.\n",
        "Offloading CPU-bound tasks to external libraries or language extensions implemented in languages like C or C++ (e.g., NumPy, pandas) that do not have a GIL.\n",
        "Using asynchronous programming models such as asyncio and concurrent.futures for I/O-bound tasks, which allow multiple I/O-bound operations to run concurrently within a single thread.\n",
        "GIL in Python Implementations:\n",
        "It's important to note that the GIL is a characteristic of the CPython interpreter, which is the reference implementation of Python. Other implementations of Python, such as Jython (for Java) and IronPython (for .NET), may not have a GIL or may have different concurrency models.\n",
        "\n",
        "\n",
        "clip\n",
        "\n",
        "Discuss the difference between 'map' and 'filter' functions in Python.\n",
        "The map() and filter() functions in Python are both built-in functions used for processing iterables (such as lists, tuples, or sets) and producing new iterables based on some transformation or filtering criteria. While they are similar in some aspects, they serve different purposes:\n",
        "\n",
        "map() Function:\n",
        "The map() function applies a specified function to each item in an iterable and returns an iterator that yields the results of applying the function to each item.\n",
        "Syntax: map(function, iterable)\n",
        "Parameters:function: The function to apply to each item in the iterable.\n",
        "iterable: The iterable (e.g., list, tuple) whose items will be processed by the function.\n",
        "numbers = [1, 2, 3, 4, 5]\n",
        "\n",
        "squared_numbers = map(lambda x: x ** 2, numbers)\n",
        "\n",
        "print(list(squared_numbers)) # Output: [1, 4, 9, 16, 25]\n",
        "\n",
        "\n",
        "\n",
        "In this example, the map() function applies the lambda function lambda x: x ** 2 to each item in the numbers list, squaring each number.\n",
        "filter() Function:\n",
        "The filter() function applies a specified filtering function to each item in an iterable and returns an iterator that yields only the items for which the filtering function returns True.\n",
        "Syntax: filter(function, iterable)\n",
        "Parameters:function: The filtering function that returns True or False based on some condition.\n",
        "iterable: The iterable (e.g., list, tuple) whose items will be filtered.\n",
        "\n",
        "\n",
        "numbers = [1, 2, 3, 4, 5]\n",
        "\n",
        "even_numbers = filter(lambda x: x % 2 == 0, numbers)\n",
        "\n",
        "print(list(even_numbers)) # Output: [2, 4]\n",
        "\n",
        "\n",
        "\n",
        "In this example, the filter() function applies the lambda function lambda x: x % 2 == 0 to each item in the numbers list, filtering out only the even numbers.\n",
        "Key Differences:\n",
        "\n",
        "map() transforms each item in an iterable using a specified function, while filter() selects only the items that satisfy a specified condition.\n",
        "map() returns the same number of items as the input iterable, while filter() may return fewer items if some items do not satisfy the filtering condition.\n",
        "Both functions return iterators rather than lists, so you need to convert the result to a list using list() to see the actual values.\n",
        "\n",
        "\n",
        "clip\n",
        "\n",
        "What is the difference between 'append' and 'extend' methods in Python lists?\n",
        "The append() and extend() methods in Python lists are both used to add elements to a list, but they differ in how they add elements and the types of arguments they accept:\n",
        "\n",
        "append() Method:\n",
        "The append() method adds a single element to the end of the list.\n",
        "Syntax: list.append(element)\n",
        "Parameters:element: The element to be added to the end of the list.\n",
        "\n",
        "my_list = [1, 2, 3]\n",
        "\n",
        "my_list.append(4)\n",
        "\n",
        "print(my_list) # Output: [1, 2, 3, 4]\n",
        "\n",
        "\n",
        "\n",
        "In this example, append() adds the element 4 to the end of the list my_list.\n",
        "extend() Method:\n",
        "The extend() method extends the list by appending elements from another iterable (such as a list, tuple, or set) to the end of the list.\n",
        "Syntax: list.extend(iterable)\n",
        "Parameters:iterable: An iterable containing elements to be added to the end of the list.\n",
        "my_list = [1, 2, 3]\n",
        "\n",
        "my_list.extend([4, 5, 6])\n",
        "\n",
        "print(my_list) # Output: [1, 2, 3, 4, 5, 6]\n",
        "\n",
        "\n",
        "\n",
        "In this example, extend() appends the elements [4, 5, 6] from the iterable to the end of the list my_list.\n",
        "Key Differences:\n",
        "\n",
        "append() adds a single element to the end of the list, while extend() appends elements from an iterable to the end of the list.\n",
        "append() modifies the list by adding the specified element directly, while extend() modifies the list by adding elements from another iterable.\n",
        "append() accepts a single element as its argument, while extend() accepts an iterable containing multiple elements.\n",
        "append() is more efficient than extend() when adding a single element, as it involves fewer operations.\n"
      ],
      "metadata": {
        "id": "qY1OHW1XRo01"
      }
    },
    {
      "cell_type": "code",
      "source": [],
      "metadata": {
        "id": "Jr2ZaolDRuKC"
      },
      "execution_count": null,
      "outputs": []
    }
  ],
  "metadata": {
    "kernelspec": {
      "display_name": "base",
      "language": "python",
      "name": "python3"
    },
    "language_info": {
      "codemirror_mode": {
        "name": "ipython",
        "version": 3
      },
      "file_extension": ".py",
      "mimetype": "text/x-python",
      "name": "python",
      "nbconvert_exporter": "python",
      "pygments_lexer": "ipython3",
      "version": "3.11.6"
    },
    "colab": {
      "provenance": [],
      "include_colab_link": true
    }
  },
  "nbformat": 4,
  "nbformat_minor": 0
}